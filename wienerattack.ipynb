{
 "cells": [
  {
   "cell_type": "code",
   "execution_count": 65,
   "metadata": {},
   "outputs": [],
   "source": [
    "import secrets\n",
    "import math"
   ]
  },
  {
   "cell_type": "markdown",
   "metadata": {},
   "source": [
    "Return GCD of 2 numbers"
   ]
  },
  {
   "cell_type": "code",
   "execution_count": 66,
   "metadata": {},
   "outputs": [],
   "source": [
    "def gcd(a, b):\n",
    "    while(b):\n",
    "        a, b = b, a % b \n",
    "    return a"
   ]
  },
  {
   "cell_type": "markdown",
   "metadata": {},
   "source": [
    "## Continued Fractions\n",
    "\n",
    "#### <b>def rational_to_contfrac(p,q)</b>\n",
    "Converts rational fraction p/q into list of partial quotients [a0, .... , an] <br>\n",
    "\n",
    "#### <b>def rational_to_contfrac(p,q)</b>\n",
    "Compute list of convergents using list of partial quotients <br>\n",
    "\n",
    "#### <b> def contfrac_to_rational(frac) </b>\n",
    "Converts finite continued fraction [a0, .... , an] to a p/q rational fraction\n",
    "\n",
    "\n"
   ]
  },
  {
   "cell_type": "code",
   "execution_count": 67,
   "metadata": {},
   "outputs": [],
   "source": [
    "def rational_to_contfrac(p ,q):\n",
    "    a = p//q\n",
    "    quotients = [a]\n",
    "    while a * q != p:\n",
    "        p,q = q, p-a*q\n",
    "        a = p//q\n",
    "        quotients.append(a)\n",
    "    return quotients\n",
    "\n",
    "\n",
    "def convergents_from_contfrac(cf):\n",
    "    convergents = []\n",
    "    for i in range(len(cf)):\n",
    "        convergents.append(contfrac_to_rational(cf[0:i]))\n",
    "    \n",
    "    return convergents\n",
    "\n",
    "\n",
    "def contfrac_to_rational(cf):\n",
    "    if len(cf) == 0:\n",
    "        return (0,1)\n",
    "    \n",
    "    num = cf[-1]\n",
    "    denominator = 1 \n",
    "\n",
    "    for i in range(-2, -len(cf)-1, -1):\n",
    "        num, denominator = cf[i]*num+denominator, num\n",
    "    \n",
    "    return (num, denominator)"
   ]
  },
  {
   "cell_type": "markdown",
   "metadata": {},
   "source": [
    "Testing the functions"
   ]
  },
  {
   "cell_type": "code",
   "execution_count": 68,
   "metadata": {},
   "outputs": [
    {
     "name": "stdout",
     "output_type": "stream",
     "text": [
      "[0, 2, 1, 10, 3]\n",
      "[(0, 1), (0, 1), (1, 2), (1, 3), (11, 32)]\n",
      "(34, 99)\n"
     ]
    }
   ],
   "source": [
    "contfrac = rational_to_contfrac(34, 99)\n",
    "print(contfrac)\n",
    "\n",
    "conv = convergents_from_contfrac(contfrac)\n",
    "print(conv)\n",
    "\n",
    "rational = contfrac_to_rational(contfrac)\n",
    "print(rational)"
   ]
  },
  {
   "cell_type": "markdown",
   "metadata": {},
   "source": [
    "Rabin-Miller Primality Test <br>\n",
    "Check if number is prime, p is the number to be tested and s is the number of rounds <br>\n",
    "S should ensure probabilitiy of p not being prime is < 2^(-80)"
   ]
  },
  {
   "cell_type": "code",
   "execution_count": 69,
   "metadata": {},
   "outputs": [],
   "source": [
    "def RMPT(p, s):\n",
    "    q = p - 1\n",
    "    k = 0 \n",
    "    \n",
    "    # if newP % 2 have remainder then stop\n",
    "    while q % 2 != 1: \n",
    "        q //= 2 \n",
    "        k += 1 \n",
    "\n",
    "    for i in range(s):\n",
    "        #Generate random a \n",
    "        a = secrets.randbelow(p-2) + 2 \n",
    "\n",
    "        while gcd(a,p) != 1:\n",
    "            a = secrets.randbelow(p-2) + 2\n",
    "            \n",
    "        z = pow(a, q, p) # z = a^q mod p\n",
    "\n",
    "        # checking a^q != 1 mod p and a^q != -1 mod p \n",
    "        if z != 1 and z != p-1:\n",
    "            for j in range(1, k):\n",
    "                z = pow(z, 2, p)\n",
    "                if z == 1:\n",
    "                    return False\n",
    "\n",
    "            if z != p-1:\n",
    "                return False\n",
    "    return True"
   ]
  },
  {
   "cell_type": "code",
   "execution_count": 94,
   "metadata": {},
   "outputs": [
    {
     "name": "stdout",
     "output_type": "stream",
     "text": [
      "False\n"
     ]
    }
   ],
   "source": [
    "# Check the result \n",
    "print(RMPT(58536828032471131348456426324506659436967195846753702250333704608966791528534067798278728747981548972696886762937373961684727824495513261968904996453134494716095278694362125703914706608360435446792042241177272588181082115012537677828367957226772929218486970585153142173891310402614698182537457744036891034121, 2))"
   ]
  },
  {
   "cell_type": "markdown",
   "metadata": {},
   "source": [
    "Generate primes p and q "
   ]
  },
  {
   "cell_type": "code",
   "execution_count": 71,
   "metadata": {},
   "outputs": [],
   "source": [
    "def generate_prime(bits, rounds):\n",
    "    while(True):\n",
    "        num = secrets.randbits(bits) # using CSRPNG to generate\n",
    "\n",
    "        # if number is even make it odd \n",
    "        if num % 2 == 0:\n",
    "            num += 1\n",
    "\n",
    "        elif num % 3 == 0:\n",
    "            continue \n",
    "\n",
    "        elif num % 5 == 0:\n",
    "            continue\n",
    "\n",
    "        elif num % 7 == 0:\n",
    "            continue\n",
    "\n",
    "        elif num % 11 == 0: \n",
    "            continue\n",
    "\n",
    "        elif RMPT(num, rounds):\n",
    "            return num\n"
   ]
  },
  {
   "cell_type": "markdown",
   "metadata": {},
   "source": [
    "RSA generate weak decryption key using public key e and 2 primes p and q"
   ]
  },
  {
   "cell_type": "code",
   "execution_count": 72,
   "metadata": {},
   "outputs": [],
   "source": [
    "def RSA_generate_weakd(p, q):\n",
    "    N = p*q\n",
    "    d = secrets.randbelow(math.isqrt(math.isqrt(N)) // 3) + 2\n",
    "\n",
    "    print('N is:', N)\n",
    "    \n",
    "    phiN = (p-1) * (q-1)\n",
    "    gcd_val = gcd(d, phiN)\n",
    "\n",
    "    while gcd_val != 1:\n",
    "        d = secrets.randbelow(math.isqrt(math.isqrt(N)) // 3) + 2\n",
    "        gcd_val = gcd(d, phiN)\n",
    "    \n",
    "    print(\"Weak d = \", d)\n",
    "    print(\"Weak d bit length: \", d.bit_length())\n",
    "\n",
    "    return d\n"
   ]
  },
  {
   "cell_type": "code",
   "execution_count": 73,
   "metadata": {},
   "outputs": [],
   "source": [
    "def inv(a, m):\n",
    "    m0 = m\n",
    "    x0 = 0\n",
    "    x1 = 1\n",
    "    if m == 1:\n",
    "        return 0\n",
    "    # Apply extended Euclid Algorithm\n",
    "    while a > 1:\n",
    "        q = a // m  # q is quotient\n",
    "\n",
    "        t = m\n",
    "        # m is remainder now, process same as euclid's algo\n",
    "        m = a % m\n",
    "        a = t\n",
    "\n",
    "        t = x0\n",
    "\n",
    "        x0 = x1 - q * x0\n",
    "\n",
    "        x1 = t\n",
    "\n",
    "    # Make x1 positive\n",
    "    if x1 < 0:\n",
    "        x1 = x1 + m0\n",
    "\n",
    "    return x1\n"
   ]
  },
  {
   "cell_type": "markdown",
   "metadata": {},
   "source": [
    "Encrypt with public key e"
   ]
  },
  {
   "cell_type": "code",
   "execution_count": 74,
   "metadata": {},
   "outputs": [],
   "source": [
    "def RSA_encrypt(ascii_message, e, N):\n",
    "    encrypted_message = pow(ascii_message, e, N)\n",
    "    return encrypted_message"
   ]
  },
  {
   "cell_type": "markdown",
   "metadata": {},
   "source": [
    "Decrypt using private key d"
   ]
  },
  {
   "cell_type": "code",
   "execution_count": 75,
   "metadata": {},
   "outputs": [],
   "source": [
    "def RSA_decrypt(encrypted_message, d, N):\n",
    "    ascii_message = pow(encrypted_message, d, N)\n",
    "    return ascii_message"
   ]
  },
  {
   "cell_type": "code",
   "execution_count": 76,
   "metadata": {},
   "outputs": [],
   "source": [
    "def convert_to_ascii(message):\n",
    "    ascii_message = \"\"\n",
    "    for char in message:\n",
    "        ascii_char = ord(char)\n",
    "        ascii_char = str(ascii_char)\n",
    "        ascii_char = ascii_char.zfill(3)\n",
    "        ascii_message += ascii_char\n",
    "    return int(ascii_message)"
   ]
  },
  {
   "cell_type": "code",
   "execution_count": 77,
   "metadata": {},
   "outputs": [],
   "source": [
    "from textwrap import wrap\n",
    "\n",
    "def convert_to_string(ascii_message):\n",
    "    message = \"\"\n",
    "    ascii_message = str(ascii_message)\n",
    "    if(len(ascii_message) % 3 != 0):\n",
    "        for _ in range(3 - len(ascii_message) % 3):\n",
    "            ascii_message = \"0\" + ascii_message\n",
    "    ascii_list = wrap(ascii_message, 3)\n",
    "    for ascii in ascii_list:\n",
    "        message = message + chr(int(ascii))\n",
    "    return message"
   ]
  },
  {
   "cell_type": "markdown",
   "metadata": {},
   "source": [
    "## RSA 1024\n",
    "User of RSA encrypt message using RSA 1024\n",
    "\n",
    "Generate primes p and q \n",
    "\n",
    "User deliberately generate a weak d exponent by setting max bit length to 1/3 * N^1/4 to get faster decryption (< 254 bit)\n",
    "\n",
    "Encryption exponent e (1024 bit) is obtained by inversing weak d \n"
   ]
  },
  {
   "cell_type": "code",
   "execution_count": 78,
   "metadata": {},
   "outputs": [
    {
     "name": "stdout",
     "output_type": "stream",
     "text": [
      "N is: 92579605280810702884594902014581110314802367855850095291489404277812520295636645313680548969514169470710062755813003007966395224089523930298887206964101605046565530425935697871588079423540061313932281726462133442800015765331755882363060325157598221166234437204910403337156557155378854696979200269273052415329\n",
      "Weak d =  5680550735152502623822026941641505065132435486688880152081012921638976647109\n",
      "Weak d bit length:  252\n",
      "E is:  52251727761912881803247565573838719601058305829641330698939587587657251907877592525346091806261042811105000741834598726301805369586842122135554443815443175172858750480733023028916158559048561516610029262232260025145731758902623713613500525443936838489803152944437624566789042046637540002104572373410658196809\n",
      "E bit length:  1023\n"
     ]
    }
   ],
   "source": [
    "phi_test = False\n",
    "\n",
    "while phi_test == False: \n",
    "    p = generate_prime(512, 3)\n",
    "    q = generate_prime(512, 3)\n",
    "    \n",
    "    phiN = (p-1) * (q-1)\n",
    "    N = p * q\n",
    "\n",
    "    d = RSA_generate_weakd(p, q)\n",
    "    e = inv(d, phiN)\n",
    "\n",
    "    if gcd(e, phiN) == 1:\n",
    "        phi_test = True\n",
    "    \n",
    "\n",
    "    print('E is: ', e)\n",
    "    print('E bit length: ', e.bit_length())"
   ]
  },
  {
   "cell_type": "markdown",
   "metadata": {},
   "source": []
  },
  {
   "cell_type": "code",
   "execution_count": 79,
   "metadata": {},
   "outputs": [
    {
     "name": "stdout",
     "output_type": "stream",
     "text": [
      "Encrypted message in ascii:  18422241215465115228822492614586374810010444399357183692225533736592225052057109728628966914097136231257473989601838285832117585686581614049548205249479173326621682857306575941244234543455082508024146938166386251255557543325132374608822629188540881649736562517639144973357893723681811990694080379989889306568\n",
      "Encrypted message in String:  \u0012Ʀñ×Ǒsä̶ǬɦɊŶ̪\n",
      "ƼƏť·ʴáȕˠɐá49m˘ɴφΒaçāǙϝə͆ĝ̀uɉʮɅɦ1ȤÍùǟ­ņɭʪ͙ĲȿέôêȟǇRǼ\u0018Ϊ¦ƂûÿȭȟŅŶɠ̶ɵ¼ȜͱʉˠȲȅɿύťͽ˓ʩ̫ϞʶPŻϝ͹Ĳȸ\n"
     ]
    }
   ],
   "source": [
    "message = \"Your Auntie\"\n",
    "\n",
    "ascii_message = convert_to_ascii(message)\n",
    "ascii_message.bit_length()\n",
    "\n",
    "encrypted_message = RSA_encrypt(ascii_message, e, N)\n",
    "print('Encrypted message in ascii: ', encrypted_message)\n",
    "print('Encrypted message in String: ', convert_to_string(encrypted_message))\n",
    "\n"
   ]
  },
  {
   "cell_type": "code",
   "execution_count": 80,
   "metadata": {},
   "outputs": [
    {
     "name": "stdout",
     "output_type": "stream",
     "text": [
      "Decrypted msg in ascii:  89111117114032065117110116105101\n",
      "Decrypted msg in string:  Your Auntie\n"
     ]
    }
   ],
   "source": [
    "decrypted_message = RSA_decrypt(encrypted_message, d, N)\n",
    "\n",
    "print('Decrypted msg in ascii: ', decrypted_message)\n",
    "print('Decrypted msg in string: ', convert_to_string(decrypted_message))"
   ]
  },
  {
   "cell_type": "code",
   "execution_count": 81,
   "metadata": {},
   "outputs": [],
   "source": [
    "def bitlength(x):\n",
    "    '''\n",
    "    Calculates the bitlength of x\n",
    "    '''\n",
    "    assert x >= 0\n",
    "    n = 0\n",
    "    while x > 0:\n",
    "        n = n+1\n",
    "        x = x>>1\n",
    "    return n"
   ]
  },
  {
   "cell_type": "code",
   "execution_count": 82,
   "metadata": {},
   "outputs": [],
   "source": [
    "def isqrt(n):\n",
    "    '''\n",
    "    Calculates the integer square root\n",
    "    for arbitrary large nonnegative integers\n",
    "    '''\n",
    "    if n < 0:\n",
    "        raise ValueError('square root not defined for negative numbers')\n",
    "    \n",
    "    if n == 0:\n",
    "        return 0\n",
    "    a, b = divmod(bitlength(n), 2)\n",
    "    x = 2**(a+b)\n",
    "    while True:\n",
    "        y = (x + n//x)//2\n",
    "        if y >= x:\n",
    "            return x\n",
    "        x = y"
   ]
  },
  {
   "cell_type": "code",
   "execution_count": 83,
   "metadata": {},
   "outputs": [],
   "source": [
    "def is_perfect_square(n):\n",
    "    '''\n",
    "    If n is a perfect square it returns sqrt(n),\n",
    "    \n",
    "    otherwise returns -1\n",
    "    '''\n",
    "    h = n & 0xF; #last hexadecimal \"digit\"\n",
    "    \n",
    "    if h > 9:\n",
    "        return -1 # return immediately in 6 cases out of 16.\n",
    "\n",
    "    # Take advantage of Boolean short-circuit evaluation\n",
    "    if ( h != 2 and h != 3 and h != 5 and h != 6 and h != 7 and h != 8 ):\n",
    "        # take square root if you must\n",
    "        t = isqrt(n)\n",
    "        if t*t == n:\n",
    "            return t\n",
    "        else:\n",
    "            return -1\n",
    "    \n",
    "    return -1"
   ]
  },
  {
   "cell_type": "markdown",
   "metadata": {},
   "source": [
    "## Wiener Attack (RSA1024)\n",
    "\n",
    "Attacker only knows public parameters {n, e} and does not know any other parameters \n",
    "\n",
    "Goal: To check if implementation by user is careless and get the decryption exponent d to compromise encryption"
   ]
  },
  {
   "cell_type": "code",
   "execution_count": 84,
   "metadata": {},
   "outputs": [],
   "source": [
    "def wiener_attack(e, n):\n",
    "    frac = rational_to_contfrac(e, n)\n",
    "    convergents = convergents_from_contfrac(frac)\n",
    "\n",
    "    for (k ,d) in convergents:\n",
    "\n",
    "        if k!=0 and (e*d-1) % k == 0:\n",
    "            phi = (e*d-1) // k\n",
    "            s = n - phi + 1\n",
    "\n",
    "            discr = s * s - 4 * n\n",
    "\n",
    "            if discr >= 0:\n",
    "                t = is_perfect_square(discr)\n",
    "                if t!= -1 and (s+t) % 2 == 0:\n",
    "                    print(\"Hacked\")\n",
    "                    return d"
   ]
  },
  {
   "cell_type": "code",
   "execution_count": 85,
   "metadata": {},
   "outputs": [
    {
     "name": "stdout",
     "output_type": "stream",
     "text": [
      "Hacked\n",
      "Hack Worked\n",
      "Hacked decrypted message:  Your Auntie\n",
      "Initial message:  Your Auntie\n"
     ]
    }
   ],
   "source": [
    "times = 5\n",
    "\n",
    "while times > 0:\n",
    "    hacked_d = wiener_attack(e, N)\n",
    "\n",
    "    if d == hacked_d:\n",
    "        print('Hack Worked')\n",
    "        hack_decrypted_message = RSA_decrypt(encrypted_message, hacked_d, N)\n",
    "        print('Hacked decrypted message: ', convert_to_string(hack_decrypted_message))\n",
    "        break\n",
    "    else:\n",
    "        print('Hack Failed')\n",
    "\n",
    "    times -= 1\n",
    "\n",
    "print('Initial message: ', convert_to_string(decrypted_message))"
   ]
  },
  {
   "cell_type": "markdown",
   "metadata": {},
   "source": [
    "## RSA 2048 \n",
    "\n",
    "User of RSA encrypt message using RSA 1024\n",
    "\n",
    "Generate primes p and q \n",
    "\n",
    "User deliberately generate a weak d exponent by setting max bit length to 1/3 * N^1/4 to get faster decryption \n",
    "\n",
    "Encryption exponent e (2048 bit) is obtained by inversing weak d "
   ]
  },
  {
   "cell_type": "code",
   "execution_count": 86,
   "metadata": {},
   "outputs": [
    {
     "name": "stdout",
     "output_type": "stream",
     "text": [
      "N is: 2338198001256711571927002181009324946646285878336959102881802876691669063918635280593974514182511905417504990071434609671133245083804383333049797396721237784302714137957662232182010092446101401070876604183435170487195928490669575940670153779059012435206859078627181597205553222690620244729890305599094895303117344534385914933361111069488926199828635429460671924669602118835401529045367605315965091272023816535464515186730734950074979514280603175556279418889622719276840494204143185729110515670713542450854479766565339641529295393807416729787796214176696301877295330809354831874778710380560677264785035142445321995163\n",
      "Weak d =  1313880184814275290959196024837478095066791576938206739856571303099538047368014001480357876865224308510269773620412712514251810602247375019776774126132403\n",
      "Weak d bit length:  509\n",
      "E is:  1072878908932086446445027705663979976104432951122716078709090368797093162212125215977448560825207324561111926020477554050346014382869393654882874822052182088630234435717730587245382956547202732090686544623795574437811452452466703647617873082105694598804700280678743891568036175754577790617129910801327308806614653679244583900435555482470160262857090564259169458891389408682238862790166923186729576553021038081041816614748488227055434697586317126815115941369500062934801706375207579444113945440697718921144852987786932636741605221316340522080722355544604293433591759703009654975909212321627600939949675665876250116683\n",
      "E bit length:  2044\n"
     ]
    }
   ],
   "source": [
    "phi_test = False\n",
    "\n",
    "while phi_test == False: \n",
    "    p = generate_prime(1024, 3)\n",
    "    q = generate_prime(1024, 3)\n",
    "    \n",
    "    phiN = (p-1) * (q-1)\n",
    "    N = p * q\n",
    "\n",
    "    d = RSA_generate_weakd(p, q)\n",
    "    e = inv(d, phiN)\n",
    "\n",
    "    if gcd(e, phiN) == 1:\n",
    "        phi_test = True\n",
    "    \n",
    "\n",
    "    print('E is: ', e)\n",
    "    print('E bit length: ', e.bit_length())"
   ]
  },
  {
   "cell_type": "code",
   "execution_count": 87,
   "metadata": {},
   "outputs": [
    {
     "name": "stdout",
     "output_type": "stream",
     "text": [
      "Encrypted message in ascii:  2308017010787502998856045285768685994328318818504625998254833021094395836473181566923328829045646191925153017951207396996486717003705828735758447060998321215804482735990798132764041468363109278249795421845241058842225536217951096911309343952594398672602770997080582478776706403787959708767722308437889744560582846365122213997418734905538940723142196660805949620210879422672778544326809623468565098348797724634438018437535741734586339120335978322046042381205783643543084554316311759008526930223328446620461565281150860730479930551581494361358570994676029722472764113415691682421270490598883338271141046268715569704315\n",
      "Encrypted message in String:  \u0002Ĵ\u0011\n",
      "̓ǶϦ͘-ĝ̀ʭϢňľ̲ǸɱϦþ́\u0015^Ƌ̈́ǙµȶΛň̽-ʆ¿Ν\u0011ηÏƌϤǦˍ\u0003ˁ̼˟˶ƿ<ϦŁ×̤Ǣ˟Ϟ̞˼)ǔūmĖừƥ͍ñ:͊áȘÙη`ΏĵŗθɒƎʠɚ̂ϥPɆǞ̈˂Ɠ̓ο˄˿˒ĴƵ͹˨ȰɆ͎ŭzÕϥƢ˞ΉȚά˓Äʔ̥εɬÒͯƦʠ̊Ƞņ̩ɯǔȵbŜ̝˔ɺƶ\u0012Ƶȗ˥˞Ɋœxŏϒł.*ŽÍ̏ʃȟTȪļķȎ΢ßňƾɬǍȵę͜˚ǟ΢ȧɅǮũŦȺϢʤ\u001d˒ǘ˼qƟʳʪƥĎǪɖͳŒď.ČˋȹˀĻ\n"
     ]
    }
   ],
   "source": [
    "message = \"Lorem ipsum dolor sit amet, consectetur adipiscing elit, sed\"\n",
    "\n",
    "ascii_message = convert_to_ascii(message)\n",
    "ascii_message.bit_length()\n",
    "\n",
    "encrypted_message = RSA_encrypt(ascii_message, e, N)\n",
    "print('Encrypted message in ascii: ', encrypted_message)\n",
    "print('Encrypted message in String: ', convert_to_string(encrypted_message))"
   ]
  },
  {
   "cell_type": "code",
   "execution_count": 88,
   "metadata": {},
   "outputs": [
    {
     "name": "stdout",
     "output_type": "stream",
     "text": [
      "Hacked\n",
      "Hack Worked\n",
      "Hacked decrypted message:  Lorem ipsum dolor sit amet, consectetur adipiscing elit, sed\n",
      "Initial message:  Lorem ipsum dolor sit amet, consectetur adipiscing elit, sed\n"
     ]
    }
   ],
   "source": [
    "times = 5\n",
    "\n",
    "while times > 0:\n",
    "    hacked_d = wiener_attack(e, N)\n",
    "\n",
    "    if d == hacked_d:\n",
    "        print('Hack Worked')\n",
    "        hack_decrypted_message = RSA_decrypt(encrypted_message, hacked_d, N)\n",
    "        print('Hacked decrypted message: ', convert_to_string(hack_decrypted_message))\n",
    "        break\n",
    "    else:\n",
    "        print('Hack Failed')\n",
    "\n",
    "    times -= 1\n",
    "\n",
    "decrypted_message = RSA_decrypt(encrypted_message, d, N)\n",
    "print('Initial message: ', convert_to_string(decrypted_message))"
   ]
  },
  {
   "cell_type": "code",
   "execution_count": null,
   "metadata": {},
   "outputs": [],
   "source": []
  },
  {
   "cell_type": "code",
   "execution_count": null,
   "metadata": {},
   "outputs": [],
   "source": []
  }
 ],
 "metadata": {
  "kernelspec": {
   "display_name": "Python 3",
   "language": "python",
   "name": "python3"
  },
  "language_info": {
   "codemirror_mode": {
    "name": "ipython",
    "version": 3
   },
   "file_extension": ".py",
   "mimetype": "text/x-python",
   "name": "python",
   "nbconvert_exporter": "python",
   "pygments_lexer": "ipython3",
   "version": "3.9.7"
  }
 },
 "nbformat": 4,
 "nbformat_minor": 2
}
