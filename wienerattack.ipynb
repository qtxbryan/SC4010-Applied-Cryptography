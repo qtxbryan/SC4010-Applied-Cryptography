{
 "cells": [
  {
   "cell_type": "code",
   "execution_count": 1,
   "metadata": {},
   "outputs": [],
   "source": [
    "import secrets\n",
    "import math"
   ]
  },
  {
   "cell_type": "markdown",
   "metadata": {},
   "source": [
    "Return GCD of 2 numbers"
   ]
  },
  {
   "cell_type": "code",
   "execution_count": 3,
   "metadata": {},
   "outputs": [],
   "source": [
    "def gcd(a, b):\n",
    "    while(b):\n",
    "        a, b = b, a % b \n",
    "    return a"
   ]
  },
  {
   "cell_type": "markdown",
   "metadata": {},
   "source": [
    "## Continued Fractions\n",
    "\n",
    "#### <b>def rational_to_contfrac(p,q)</b>\n",
    "Converts rational fraction p/q into list of partial quotients [a0, .... , an] <br>\n",
    "\n",
    "#### <b>def rational_to_contfrac(p,q)</b>\n",
    "Compute list of convergents using list of partial quotients <br>\n",
    "\n",
    "#### <b> def contfrac_to_rational(frac) </b>\n",
    "Converts finite continued fraction [a0, .... , an] to a p/q rational fraction\n",
    "\n",
    "\n"
   ]
  },
  {
   "cell_type": "code",
   "execution_count": 4,
   "metadata": {},
   "outputs": [],
   "source": [
    "def rational_to_contfrac(p ,q):\n",
    "    a = p//q\n",
    "    quotients = [a]\n",
    "    while a * q != p:\n",
    "        p,q = q, p-a*q\n",
    "        a = p//q\n",
    "        quotients.append(a)\n",
    "    return quotients\n",
    "\n",
    "\n",
    "def convergents_from_contfrac(cf):\n",
    "    convergents = []\n",
    "    for i in range(len(cf)):\n",
    "        convergents.append(contfrac_to_rational(cf[0:i]))\n",
    "    \n",
    "    return convergents\n",
    "\n",
    "\n",
    "def contfrac_to_rational(cf):\n",
    "    if len(cf) == 0:\n",
    "        return (0,1)\n",
    "    \n",
    "    num = cf[-1]\n",
    "    denominator = 1 \n",
    "\n",
    "    for i in range(-2, -len(cf)-1, -1):\n",
    "        num, denominator = cf[i]*num+denominator, num\n",
    "    \n",
    "    return (num, denominator)"
   ]
  },
  {
   "cell_type": "markdown",
   "metadata": {},
   "source": [
    "Testing the functions"
   ]
  },
  {
   "cell_type": "code",
   "execution_count": 18,
   "metadata": {},
   "outputs": [
    {
     "name": "stdout",
     "output_type": "stream",
     "text": [
      "[0, 2, 1, 10, 3]\n",
      "[(0, 1), (0, 1), (1, 2), (1, 3), (11, 32)]\n",
      "(34, 99)\n"
     ]
    }
   ],
   "source": [
    "contfrac = rational_to_contfrac(34, 99)\n",
    "print(contfrac)\n",
    "\n",
    "conv = convergents_from_contfrac(contfrac)\n",
    "print(conv)\n",
    "\n",
    "rational = contfrac_to_rational(contfrac)\n",
    "print(rational)"
   ]
  },
  {
   "cell_type": "markdown",
   "metadata": {},
   "source": [
    "Rabin-Miller Primality Test <br>\n",
    "Check if number is prime, p is the number to be tested and s is the number of rounds <br>\n",
    "S should ensure probabilitiy of p not being prime is < 2^(-80)"
   ]
  },
  {
   "cell_type": "code",
   "execution_count": 19,
   "metadata": {},
   "outputs": [],
   "source": [
    "def RMPT(p, s):\n",
    "    q = p - 1\n",
    "    k = 0 \n",
    "    \n",
    "    # if newP % 2 have remainder then stop\n",
    "    while q % 2 != 1: \n",
    "        q //= 2 \n",
    "        k += 1 \n",
    "\n",
    "    for i in range(s):\n",
    "        #Generate random a \n",
    "        a = secrets.randbelow(p-2) + 2 \n",
    "\n",
    "        while gcd(a,p) != 1:\n",
    "            a = secrets.randbelow(p-2) + 2\n",
    "            \n",
    "        z = pow(a, q, p) # z = a^q mod p\n",
    "\n",
    "        # checking a^q != 1 mod p and a^q != -1 mod p \n",
    "        if z != 1 and z != p-1:\n",
    "            for j in range(1, k):\n",
    "                z = pow(z, 2, p)\n",
    "                if z == 1:\n",
    "                    return False\n",
    "\n",
    "            if z != p-1:\n",
    "                return False\n",
    "    return True"
   ]
  },
  {
   "cell_type": "code",
   "execution_count": 20,
   "metadata": {},
   "outputs": [
    {
     "name": "stdout",
     "output_type": "stream",
     "text": [
      "False\n"
     ]
    }
   ],
   "source": [
    "# Check the result \n",
    "print(RMPT(58536828032471131348456426324506659436967195846753702250333704608966791528534067798278728747981548972696886762937373961684727824495513261968904996453134494716095278694362125703914706608360435446792042241177272588181082115012537677828367957226772929218486970585153142173891310402614698182537457744036891034121, 2))"
   ]
  },
  {
   "cell_type": "markdown",
   "metadata": {},
   "source": [
    "Generate primes p and q "
   ]
  },
  {
   "cell_type": "code",
   "execution_count": 21,
   "metadata": {},
   "outputs": [],
   "source": [
    "def generate_prime(bits, rounds):\n",
    "    while(True):\n",
    "        num = secrets.randbits(bits) # using CSRPNG to generate\n",
    "\n",
    "        # if number is even make it odd \n",
    "        if num % 2 == 0:\n",
    "            num += 1\n",
    "\n",
    "        elif num % 3 == 0:\n",
    "            continue \n",
    "\n",
    "        elif num % 5 == 0:\n",
    "            continue\n",
    "\n",
    "        elif num % 7 == 0:\n",
    "            continue\n",
    "\n",
    "        elif num % 11 == 0: \n",
    "            continue\n",
    "\n",
    "        elif RMPT(num, rounds):\n",
    "            return num\n"
   ]
  },
  {
   "cell_type": "markdown",
   "metadata": {},
   "source": [
    "RSA generate weak decryption key using public key e and 2 primes p and q"
   ]
  },
  {
   "cell_type": "code",
   "execution_count": 22,
   "metadata": {},
   "outputs": [],
   "source": [
    "def RSA_generate_weakd(p, q):\n",
    "    N = p*q\n",
    "    d = secrets.randbelow(math.isqrt(math.isqrt(N)) // 3) + 2\n",
    "    \n",
    "    phiN = (p-1) * (q-1)\n",
    "    gcd_val = gcd(d, phiN)\n",
    "\n",
    "    while gcd_val != 1:\n",
    "        d = secrets.randbelow(math.isqrt(math.isqrt(N)) // 3) + 2\n",
    "        gcd_val = gcd(d, phiN)\n",
    "    \n",
    "    print(\"Weak d = \", d)\n",
    "    print(\"Weak d bit length: \", d.bit_length())\n",
    "\n",
    "    return d\n"
   ]
  },
  {
   "cell_type": "code",
   "execution_count": 23,
   "metadata": {},
   "outputs": [],
   "source": [
    "def inv(a, m):\n",
    "    m0 = m\n",
    "    x0 = 0\n",
    "    x1 = 1\n",
    "    if m == 1:\n",
    "        return 0\n",
    "    # Apply extended Euclid Algorithm\n",
    "    while a > 1:\n",
    "        q = a // m  # q is quotient\n",
    "\n",
    "        t = m\n",
    "        # m is remainder now, process same as euclid's algo\n",
    "        m = a % m\n",
    "        a = t\n",
    "\n",
    "        t = x0\n",
    "\n",
    "        x0 = x1 - q * x0\n",
    "\n",
    "        x1 = t\n",
    "\n",
    "    # Make x1 positive\n",
    "    if x1 < 0:\n",
    "        x1 = x1 + m0\n",
    "\n",
    "    return x1\n"
   ]
  },
  {
   "cell_type": "markdown",
   "metadata": {},
   "source": [
    "Encrypt with public key e"
   ]
  },
  {
   "cell_type": "code",
   "execution_count": 24,
   "metadata": {},
   "outputs": [],
   "source": [
    "def RSA_encrypt(ascii_message, e, N):\n",
    "    encrypted_message = pow(ascii_message, e, N)\n",
    "    return encrypted_message"
   ]
  },
  {
   "cell_type": "markdown",
   "metadata": {},
   "source": [
    "Decrypt using private key d"
   ]
  },
  {
   "cell_type": "code",
   "execution_count": 25,
   "metadata": {},
   "outputs": [],
   "source": [
    "def RSA_decrypt(encrypted_message, d, N):\n",
    "    ascii_message = pow(encrypted_message, d, N)\n",
    "    return ascii_message"
   ]
  },
  {
   "cell_type": "code",
   "execution_count": 26,
   "metadata": {},
   "outputs": [],
   "source": [
    "def convert_to_ascii(message):\n",
    "    ascii_message = \"\"\n",
    "    for char in message:\n",
    "        ascii_char = ord(char)\n",
    "        ascii_char = str(ascii_char)\n",
    "        ascii_char = ascii_char.zfill(3)\n",
    "        ascii_message += ascii_char\n",
    "    return int(ascii_message)"
   ]
  },
  {
   "cell_type": "code",
   "execution_count": 27,
   "metadata": {},
   "outputs": [],
   "source": [
    "from textwrap import wrap\n",
    "\n",
    "def convert_to_string(ascii_message):\n",
    "    message = \"\"\n",
    "    ascii_message = str(ascii_message)\n",
    "    if(len(ascii_message) % 3 != 0):\n",
    "        for _ in range(3 - len(ascii_message) % 3):\n",
    "            ascii_message = \"0\" + ascii_message\n",
    "    ascii_list = wrap(ascii_message, 3)\n",
    "    for ascii in ascii_list:\n",
    "        message = message + chr(int(ascii))\n",
    "    return message"
   ]
  },
  {
   "cell_type": "markdown",
   "metadata": {},
   "source": [
    "## RSA 1024\n",
    "User of RSA encrypt message using RSA 1024\n",
    "\n",
    "Generate primes p and q \n",
    "\n",
    "User deliberately generate a weak d exponent by setting max bit length to 1/3 * N^1/4 to get faster decryption (< 254 bit)\n",
    "\n",
    "Encryption exponent e (1024 bit) is obtained by inversing weak d \n"
   ]
  },
  {
   "cell_type": "code",
   "execution_count": 56,
   "metadata": {},
   "outputs": [
    {
     "name": "stdout",
     "output_type": "stream",
     "text": [
      "Weak d =  2013899214968624568521869647275100381898647901641530548469288996639029150571\n",
      "Weak d bit length:  251\n",
      "E is:  878314865762301767169362240012493745626615109817642164089399297693772233724045812661487782716626063679613700259006133129371920569247221863052921963899443112710981480951940007949161205462028651495618364950577668801763710683986443239141042724338212340744739486486238243401997227065733558304046621115323839899\n",
      "E bit length:  1017\n"
     ]
    }
   ],
   "source": [
    "phi_test = False\n",
    "\n",
    "while phi_test == False: \n",
    "    p = generate_prime(512, 3)\n",
    "    q = generate_prime(512, 3)\n",
    "    \n",
    "    phiN = (p-1) * (q-1)\n",
    "    N = p * q\n",
    "\n",
    "    d = RSA_generate_weakd(p, q)\n",
    "    e = inv(d, phiN)\n",
    "\n",
    "    if gcd(e, phiN) == 1:\n",
    "        phi_test = True\n",
    "    \n",
    "\n",
    "    print('E is: ', e)\n",
    "    print('E bit length: ', e.bit_length())"
   ]
  },
  {
   "cell_type": "code",
   "execution_count": 58,
   "metadata": {},
   "outputs": [
    {
     "name": "stdout",
     "output_type": "stream",
     "text": [
      "Encrypted message in ascii:  641870390889763339424667273443905987428535322901974013334340485347659388597200182735685551410904085557852244601226869451677122308531311838373702128666168516725717163113686394606719581067339589745475383480525266674309516034835508372430844290279037788116629715479257672149342662529210954624576990398340795449\n",
      "ŎŔǥśʓƄɕÈ¶˟ʭȧƚΈUȭ͔ôəâͥǃʥzĴȓķ͆ŵʾʚ¨Ȅ˕ˍ£qʮƊɞˏɅCœɍ˩ǛſǠȍĊʢĵȄ\"̓ǼŴƮ͌Ģė%̔tɵˋǟāʠŖʖȑÒκɰɀϞƎŔ̛ǁ\n"
     ]
    }
   ],
   "source": [
    "message = \"Your Auntie\"\n",
    "\n",
    "ascii_message = convert_to_ascii(message)\n",
    "ascii_message.bit_length()\n",
    "\n",
    "encrypted_message = RSA_encrypt(ascii_message, e, N)\n",
    "print('Encrypted message in ascii: ', encrypted_message)\n",
    "print('Encrypted message in String: ', convert_to_string(encrypted_message))\n",
    "\n"
   ]
  },
  {
   "cell_type": "code",
   "execution_count": 59,
   "metadata": {},
   "outputs": [
    {
     "name": "stdout",
     "output_type": "stream",
     "text": [
      "Decrypted msg in ascii:  89111117114032065117110116105101\n",
      "Decrypted msg in string:  Your Auntie\n"
     ]
    }
   ],
   "source": [
    "decrypted_message = RSA_decrypt(encrypted_message, d, N)\n",
    "\n",
    "print('Decrypted msg in ascii: ', decrypted_message)\n",
    "print('Decrypted msg in string: ', convert_to_string(decrypted_message))"
   ]
  },
  {
   "cell_type": "code",
   "execution_count": 60,
   "metadata": {},
   "outputs": [],
   "source": [
    "def bitlength(x):\n",
    "    '''\n",
    "    Calculates the bitlength of x\n",
    "    '''\n",
    "    assert x >= 0\n",
    "    n = 0\n",
    "    while x > 0:\n",
    "        n = n+1\n",
    "        x = x>>1\n",
    "    return n"
   ]
  },
  {
   "cell_type": "code",
   "execution_count": 61,
   "metadata": {},
   "outputs": [],
   "source": [
    "def isqrt(n):\n",
    "    '''\n",
    "    Calculates the integer square root\n",
    "    for arbitrary large nonnegative integers\n",
    "    '''\n",
    "    if n < 0:\n",
    "        raise ValueError('square root not defined for negative numbers')\n",
    "    \n",
    "    if n == 0:\n",
    "        return 0\n",
    "    a, b = divmod(bitlength(n), 2)\n",
    "    x = 2**(a+b)\n",
    "    while True:\n",
    "        y = (x + n//x)//2\n",
    "        if y >= x:\n",
    "            return x\n",
    "        x = y"
   ]
  },
  {
   "cell_type": "code",
   "execution_count": 62,
   "metadata": {},
   "outputs": [],
   "source": [
    "def is_perfect_square(n):\n",
    "    '''\n",
    "    If n is a perfect square it returns sqrt(n),\n",
    "    \n",
    "    otherwise returns -1\n",
    "    '''\n",
    "    h = n & 0xF; #last hexadecimal \"digit\"\n",
    "    \n",
    "    if h > 9:\n",
    "        return -1 # return immediately in 6 cases out of 16.\n",
    "\n",
    "    # Take advantage of Boolean short-circuit evaluation\n",
    "    if ( h != 2 and h != 3 and h != 5 and h != 6 and h != 7 and h != 8 ):\n",
    "        # take square root if you must\n",
    "        t = isqrt(n)\n",
    "        if t*t == n:\n",
    "            return t\n",
    "        else:\n",
    "            return -1\n",
    "    \n",
    "    return -1"
   ]
  },
  {
   "cell_type": "markdown",
   "metadata": {},
   "source": [
    "## Wiener Attack (RSA1024)\n",
    "\n",
    "Attacker only knows public parameters {n, e} and does not know any other parameters \n",
    "\n",
    "Goal: To check if implementation by user is careless and get the decryption exponent d to compromise encryption\n",
    "\n",
    "Steps: \n",
    "1. Set k to be numerator and d to be denominator of convergent\n",
    "2. Check if d is odd, if not move on to next convergent \n",
    "3. Check if ed == 1 mod k, if not move on to next convergent\n",
    "4. Set phi(n) = ed - 1 / k \n",
    "5. Find roots of polynomial x^2 - (n-phi(n)+1)x + n"
   ]
  },
  {
   "cell_type": "code",
<<<<<<< HEAD
   "execution_count": 37,
=======
   "execution_count": 63,
>>>>>>> bryan
   "metadata": {},
   "outputs": [],
   "source": [
    "def wiener_attack(e, n):\n",
    "    frac = rational_to_contfrac(e, n)\n",
    "    convergents = convergents_from_contfrac(frac)\n",
    "\n",
    "    for (k ,d) in convergents:\n",
    "\n",
    "        if k!=0 and (e*d-1) % k == 0:\n",
    "            phi = (e*d-1) // k\n",
    "            s = n - phi + 1\n",
    "\n",
    "            discr = s * s - 4 * n\n",
    "\n",
    "            if discr >= 0: # check if discr is non negative\n",
    "                t = is_perfect_square(discr) # Important as sqrt of discr must be integer for d to be integer \n",
    "                if t!= -1 and (s+t) % 2 == 0: # check if sum of s and sqrt of discr is even. Needed because the quadratic formula has a (s + sqrt(discr)) term, which must be even to yield an integer d.\n",
    "                    print(\"Hacked\")\n",
    "                    return d"
   ]
  },
  {
   "cell_type": "code",
<<<<<<< HEAD
   "execution_count": 38,
=======
   "execution_count": 64,
>>>>>>> bryan
   "metadata": {},
   "outputs": [
    {
     "name": "stdout",
     "output_type": "stream",
     "text": [
      "Hacked\n",
      "Hack Worked\n",
      "Hacked decrypted message:  Your Auntie\n",
      "Initial message:  Your Auntie\n"
     ]
    }
   ],
   "source": [
    "times = 5\n",
    "\n",
    "while times > 0:\n",
    "    hacked_d = wiener_attack(e, N)\n",
    "\n",
    "    if d == hacked_d:\n",
    "        print('Hack Worked')\n",
    "        hack_decrypted_message = RSA_decrypt(encrypted_message, hacked_d, N)\n",
    "        print('Hacked decrypted message: ', convert_to_string(hack_decrypted_message))\n",
    "        break\n",
    "    else:\n",
    "        print('Hack Failed')\n",
    "\n",
    "    times -= 1\n",
    "\n",
    "print('Initial message: ', convert_to_string(decrypted_message))"
   ]
  },
  {
   "cell_type": "markdown",
   "metadata": {},
   "source": [
    "## RSA 2048 \n",
    "\n",
    "User of RSA encrypt message using RSA 1024\n",
    "\n",
    "Generate primes p and q \n",
    "\n",
    "User deliberately generate a weak d exponent by setting max bit length to 1/3 * N^1/4 to get faster decryption \n",
    "\n",
    "Encryption exponent e (2048 bit) is obtained by inversing weak d "
   ]
<<<<<<< HEAD
=======
  },
  {
   "cell_type": "code",
   "execution_count": 68,
   "metadata": {},
   "outputs": [
    {
     "name": "stdout",
     "output_type": "stream",
     "text": [
      "Weak d =  360107549327455289768407003529636266629757008720584104841093107912417956684552908306911904239307971254666383602611521819102636972151110741199835703204991\n",
      "Weak d bit length:  507\n",
      "E is:  2267710688337699804118717771975907794677772407191358478749424971542561132916743850933901784104934860255890543033886654474394550259486457886216436598403602876704639686600198464240586000036432805833506569567220761397024819393379489487481555095986289129480147021066262304224442076735724610656409624997070953315134299788281788855744880190987787951609786389521510576389884541818288905057660012723300435104827253638047830886851779799527115850549681687309032352355643987776083874033145215156360268914203019110356222021215172349435675223053955362620949862086938370149481981611850930399504437384030316887068385569700159594271\n",
      "E bit length:  2045\n"
     ]
    }
   ],
   "source": [
    "phi_test = False\n",
    "\n",
    "while phi_test == False: \n",
    "    p = generate_prime(1024, 3)\n",
    "    q = generate_prime(1024, 3)\n",
    "    \n",
    "    phiN = (p-1) * (q-1)\n",
    "    N = p * q\n",
    "\n",
    "    d = RSA_generate_weakd(p, q)\n",
    "    e = inv(d, phiN)\n",
    "\n",
    "    if gcd(e, phiN) == 1:\n",
    "        phi_test = True\n",
    "    \n",
    "\n",
    "    print('E is: ', e)\n",
    "    print('E bit length: ', e.bit_length())"
   ]
  },
  {
   "cell_type": "code",
   "execution_count": 71,
   "metadata": {},
   "outputs": [
    {
     "name": "stdout",
     "output_type": "stream",
     "text": [
      "Encrypted message in ascii:  3838660724814673090459813371413373351604326132742791785303492101333460487938914221686008608817332688100689810436402779735853541281145814011467498276853753497544703872970506804532781575871732778378940211701056305518073814478602493475120585998954921922201236741906804857592785696763196503077183883802787639060842906781266950737518678295471880196837071626078651256354866120763354910637966181329052150526804870772424632327314015681002103647227745840397598489721178630703889374141085922704443408048123849644121165209525609802427266640148768038712905465461997819707642129336495928563415336724641333732072135996076471039789\n",
      "Encrypted message in String:  \u0003͆ʔ˔̮ʡZǋ̭ųƝŵşɜņ˦̗̑įǬeōǌǧΪΒÝɠ̱Ōʰdʱ̪ƴƒ̋˟͕ȝę̮\u000bǓǲĔ͕˱ǱȠʿͨϊǺ̤Ȕ̍ȿͧ˜̊źάÓʽ8ıȆI̮ǞɚǭǛxɉϦκΙΚÉì˥Ί̤͙ɐ̑ʸ˻ÄǷM·ͳ̢̓ɿ<͊Ί̍ĊζˡȆʦħǗͰÄͅGɲNʋĀŢ͢x˻ŢΎɽφµŉ4Ȏ̤ͦ̄ƨɸŇĺ\u000fʩ\u0002gʇã˩͈ƍɖǩˑ²ɶʿ͹ŶUΚˀƻƘ0{͑ʄy¥Ñȍɡ̢ƫĊʀ̀&ˈΉǑǍϥ̳˃ʂŐǯΠȳƟŐ˔ʁō˜HϤLǗ'̕\n"
     ]
    }
   ],
   "source": [
    "message = \"Lorem ipsum dolor sit amet, consectetur adipiscing elit, sed\"\n",
    "\n",
    "ascii_message = convert_to_ascii(message)\n",
    "ascii_message.bit_length()\n",
    "\n",
    "encrypted_message = RSA_encrypt(ascii_message, e, N)\n",
    "print('Encrypted message in ascii: ', encrypted_message)\n",
    "print('Encrypted message in String: ', convert_to_string(encrypted_message))"
   ]
  },
  {
   "cell_type": "code",
   "execution_count": 73,
   "metadata": {},
   "outputs": [
    {
     "name": "stdout",
     "output_type": "stream",
     "text": [
      "Hacked\n",
      "Hack Worked\n",
      "Hacked decrypted message:  Lorem ipsum dolor sit amet, consectetur adipiscing elit, sed\n",
      "Initial message:  Lorem ipsum dolor sit amet, consectetur adipiscing elit, sed\n"
     ]
    }
   ],
   "source": [
    "times = 5\n",
    "\n",
    "while times > 0:\n",
    "    hacked_d = wiener_attack(e, N)\n",
    "\n",
    "    if d == hacked_d:\n",
    "        print('Hack Worked')\n",
    "        hack_decrypted_message = RSA_decrypt(encrypted_message, hacked_d, N)\n",
    "        print('Hacked decrypted message: ', convert_to_string(hack_decrypted_message))\n",
    "        break\n",
    "    else:\n",
    "        print('Hack Failed')\n",
    "\n",
    "    times -= 1\n",
    "\n",
    "decrypted_message = RSA_decrypt(encrypted_message, d, N)\n",
    "print('Initial message: ', convert_to_string(decrypted_message))"
   ]
>>>>>>> bryan
  }
 ],
 "metadata": {
  "kernelspec": {
   "display_name": "Python 3",
   "language": "python",
   "name": "python3"
  },
  "language_info": {
   "codemirror_mode": {
    "name": "ipython",
    "version": 3
   },
   "file_extension": ".py",
   "mimetype": "text/x-python",
   "name": "python",
   "nbconvert_exporter": "python",
   "pygments_lexer": "ipython3",
   "version": "3.9.7"
  }
 },
 "nbformat": 4,
 "nbformat_minor": 2
}
