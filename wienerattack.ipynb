{
 "cells": [
  {
   "cell_type": "code",
   "execution_count": 1,
   "metadata": {},
   "outputs": [],
   "source": [
    "import secrets\n",
    "import math"
   ]
  },
  {
   "cell_type": "markdown",
   "metadata": {},
   "source": [
    "Return GCD of 2 numbers"
   ]
  },
  {
   "cell_type": "code",
   "execution_count": 3,
   "metadata": {},
   "outputs": [],
   "source": [
    "def gcd(a, b):\n",
    "    while(b):\n",
    "        a, b = b, a % b \n",
    "    return a"
   ]
  },
  {
   "cell_type": "markdown",
   "metadata": {},
   "source": [
    "## Continued Fractions\n",
    "\n",
    "#### <b>def rational_to_contfrac(p,q)</b>\n",
    "Converts rational fraction p/q into list of partial quotients [a0, .... , an] <br>\n",
    "\n",
    "#### <b>def rational_to_contfrac(p,q)</b>\n",
    "Compute list of convergents using list of partial quotients <br>\n",
    "\n",
    "#### <b> def contfrac_to_rational(frac) </b>\n",
    "Converts finite continued fraction [a0, .... , an] to a p/q rational fraction\n",
    "\n",
    "\n"
   ]
  },
  {
   "cell_type": "code",
   "execution_count": 4,
   "metadata": {},
   "outputs": [],
   "source": [
    "def rational_to_contfrac(p ,q):\n",
    "    a = p//q\n",
    "    quotients = [a]\n",
    "    while a * q != p:\n",
    "        p,q = q, p-a*q\n",
    "        a = p//q\n",
    "        quotients.append(a)\n",
    "    return quotients\n",
    "\n",
    "\n",
    "def convergents_from_contfrac(cf):\n",
    "    convergents = []\n",
    "    for i in range(len(cf)):\n",
    "        convergents.append(contfrac_to_rational(cf[0:i]))\n",
    "    \n",
    "    return convergents\n",
    "\n",
    "\n",
    "def contfrac_to_rational(cf):\n",
    "    if len(cf) == 0:\n",
    "        return (0,1)\n",
    "    \n",
    "    num = cf[-1]\n",
    "    denominator = 1 \n",
    "\n",
    "    for i in range(-2, -len(cf)-1, -1):\n",
    "        num, denominator = cf[i]*num+denominator, num\n",
    "    \n",
    "    return (num, denominator)"
   ]
  },
  {
   "cell_type": "markdown",
   "metadata": {},
   "source": [
    "Testing the functions"
   ]
  },
  {
   "cell_type": "code",
   "execution_count": 18,
   "metadata": {},
   "outputs": [
    {
     "name": "stdout",
     "output_type": "stream",
     "text": [
      "[0, 2, 1, 10, 3]\n",
      "[(0, 1), (0, 1), (1, 2), (1, 3), (11, 32)]\n",
      "(34, 99)\n"
     ]
    }
   ],
   "source": [
    "contfrac = rational_to_contfrac(34, 99)\n",
    "print(contfrac)\n",
    "\n",
    "conv = convergents_from_contfrac(contfrac)\n",
    "print(conv)\n",
    "\n",
    "rational = contfrac_to_rational(contfrac)\n",
    "print(rational)"
   ]
  },
  {
   "cell_type": "markdown",
   "metadata": {},
   "source": [
    "Rabin-Miller Primality Test <br>\n",
    "Check if number is prime, p is the number to be tested and s is the number of rounds <br>\n",
    "S should ensure probabilitiy of p not being prime is < 2^(-80)"
   ]
  },
  {
   "cell_type": "code",
   "execution_count": 19,
   "metadata": {},
   "outputs": [],
   "source": [
    "def RMPT(p, s):\n",
    "    q = p - 1\n",
    "    k = 0 \n",
    "    \n",
    "    # if newP % 2 have remainder then stop\n",
    "    while q % 2 != 1: \n",
    "        q //= 2 \n",
    "        k += 1 \n",
    "\n",
    "    for i in range(s):\n",
    "        #Generate random a \n",
    "        a = secrets.randbelow(p-2) + 2 \n",
    "\n",
    "        while gcd(a,p) != 1:\n",
    "            a = secrets.randbelow(p-2) + 2\n",
    "            \n",
    "        z = pow(a, q, p) # z = a^q mod p\n",
    "\n",
    "        # checking a^q != 1 mod p and a^q != -1 mod p \n",
    "        if z != 1 and z != p-1:\n",
    "            for j in range(1, k):\n",
    "                z = pow(z, 2, p)\n",
    "                if z == 1:\n",
    "                    return False\n",
    "\n",
    "            if z != p-1:\n",
    "                return False\n",
    "    return True"
   ]
  },
  {
   "cell_type": "code",
   "execution_count": 20,
   "metadata": {},
   "outputs": [
    {
     "name": "stdout",
     "output_type": "stream",
     "text": [
      "False\n"
     ]
    }
   ],
   "source": [
    "# Check the result \n",
    "print(RMPT(58536828032471131348456426324506659436967195846753702250333704608966791528534067798278728747981548972696886762937373961684727824495513261968904996453134494716095278694362125703914706608360435446792042241177272588181082115012537677828367957226772929218486970585153142173891310402614698182537457744036891034121, 2))"
   ]
  },
  {
   "cell_type": "markdown",
   "metadata": {},
   "source": [
    "Generate primes p and q "
   ]
  },
  {
   "cell_type": "code",
   "execution_count": 21,
   "metadata": {},
   "outputs": [],
   "source": [
    "def generate_prime(bits, rounds):\n",
    "    while(True):\n",
    "        num = secrets.randbits(bits) # using CSRPNG to generate\n",
    "\n",
    "        # if number is even make it odd \n",
    "        if num % 2 == 0:\n",
    "            num += 1\n",
    "\n",
    "        elif num % 3 == 0:\n",
    "            continue \n",
    "\n",
    "        elif num % 5 == 0:\n",
    "            continue\n",
    "\n",
    "        elif num % 7 == 0:\n",
    "            continue\n",
    "\n",
    "        elif num % 11 == 0: \n",
    "            continue\n",
    "\n",
    "        elif RMPT(num, rounds):\n",
    "            return num\n"
   ]
  },
  {
   "cell_type": "markdown",
   "metadata": {},
   "source": [
    "RSA generate weak decryption key using public key e and 2 primes p and q"
   ]
  },
  {
   "cell_type": "code",
   "execution_count": 22,
   "metadata": {},
   "outputs": [],
   "source": [
    "def RSA_generate_weakd(p, q):\n",
    "    N = p*q\n",
    "    d = secrets.randbelow(math.isqrt(math.isqrt(N)) // 3) + 2\n",
    "    \n",
    "    phiN = (p-1) * (q-1)\n",
    "    gcd_val = gcd(d, phiN)\n",
    "\n",
    "    while gcd_val != 1:\n",
    "        d = secrets.randbelow(math.isqrt(math.isqrt(N)) // 3) + 2\n",
    "        gcd_val = gcd(d, phiN)\n",
    "    \n",
    "    print(\"Weak d = \", d)\n",
    "    print(\"Weak d bit length: \", d.bit_length())\n",
    "\n",
    "    return d\n"
   ]
  },
  {
   "cell_type": "code",
   "execution_count": 23,
   "metadata": {},
   "outputs": [],
   "source": [
    "def inv(a, m):\n",
    "    m0 = m\n",
    "    x0 = 0\n",
    "    x1 = 1\n",
    "    if m == 1:\n",
    "        return 0\n",
    "    # Apply extended Euclid Algorithm\n",
    "    while a > 1:\n",
    "        q = a // m  # q is quotient\n",
    "\n",
    "        t = m\n",
    "        # m is remainder now, process same as euclid's algo\n",
    "        m = a % m\n",
    "        a = t\n",
    "\n",
    "        t = x0\n",
    "\n",
    "        x0 = x1 - q * x0\n",
    "\n",
    "        x1 = t\n",
    "\n",
    "    # Make x1 positive\n",
    "    if x1 < 0:\n",
    "        x1 = x1 + m0\n",
    "\n",
    "    return x1\n"
   ]
  },
  {
   "cell_type": "markdown",
   "metadata": {},
   "source": [
    "Encrypt with public key e"
   ]
  },
  {
   "cell_type": "code",
   "execution_count": 24,
   "metadata": {},
   "outputs": [],
   "source": [
    "def RSA_encrypt(ascii_message, e, N):\n",
    "    encrypted_message = pow(ascii_message, e, N)\n",
    "    return encrypted_message"
   ]
  },
  {
   "cell_type": "markdown",
   "metadata": {},
   "source": [
    "Decrypt using private key d"
   ]
  },
  {
   "cell_type": "code",
   "execution_count": 25,
   "metadata": {},
   "outputs": [],
   "source": [
    "def RSA_decrypt(encrypted_message, d, N):\n",
    "    ascii_message = pow(encrypted_message, d, N)\n",
    "    return ascii_message"
   ]
  },
  {
   "cell_type": "code",
   "execution_count": 26,
   "metadata": {},
   "outputs": [],
   "source": [
    "def convert_to_ascii(message):\n",
    "    ascii_message = \"\"\n",
    "    for char in message:\n",
    "        ascii_char = ord(char)\n",
    "        ascii_char = str(ascii_char)\n",
    "        ascii_char = ascii_char.zfill(3)\n",
    "        ascii_message += ascii_char\n",
    "    return int(ascii_message)"
   ]
  },
  {
   "cell_type": "code",
   "execution_count": 27,
   "metadata": {},
   "outputs": [],
   "source": [
    "from textwrap import wrap\n",
    "\n",
    "def convert_to_string(ascii_message):\n",
    "    message = \"\"\n",
    "    ascii_message = str(ascii_message)\n",
    "    if(len(ascii_message) % 3 != 0):\n",
    "        for _ in range(3 - len(ascii_message) % 3):\n",
    "            ascii_message = \"0\" + ascii_message\n",
    "    ascii_list = wrap(ascii_message, 3)\n",
    "    for ascii in ascii_list:\n",
    "        message = message + chr(int(ascii))\n",
    "    return message"
   ]
  },
  {
   "cell_type": "markdown",
   "metadata": {},
   "source": [
    "## RSA 1024\n",
    "User of RSA encrypt message using RSA 1024\n",
    "\n",
    "Generate primes p and q \n",
    "\n",
    "User deliberately generate a weak d exponent by setting max bit length to 1/3 * N^1/4 to get faster decryption \n",
    "\n",
    "Encryption exponent e (1024 bit) is obtained by inversing weak d \n"
   ]
  },
  {
   "cell_type": "code",
   "execution_count": 29,
   "metadata": {},
   "outputs": [
    {
     "name": "stdout",
     "output_type": "stream",
     "text": [
      "Weak d =  1508588693260847212567844171720829540523113200195872643370165515304637646203\n",
      "Weak d bit length:  250\n",
      "E is:  30581472026331650198030073149183420303670165898854645900649085643966297355275803748450279367810277015442512015771005873341576652681360064052273708001720275962845056738029482745982859994751356644035705211483356611984082776005984784280562510742978507545253389626405158025532984425615264285878742922113509300191\n",
      "E bit length:  1022\n"
     ]
    }
   ],
   "source": [
    "phi_test = False\n",
    "\n",
    "while phi_test == False: \n",
    "    p = generate_prime(512, 3)\n",
    "    q = generate_prime(512, 3)\n",
    "    \n",
    "    phiN = (p-1) * (q-1)\n",
    "    N = p * q\n",
    "\n",
    "    d = RSA_generate_weakd(p, q)\n",
    "    e = inv(d, phiN)\n",
    "\n",
    "    if gcd(e, phiN) == 1:\n",
    "        phi_test = True\n",
    "    \n",
    "\n",
    "    print('E is: ', e)\n",
    "    print('E bit length: ', e.bit_length())"
   ]
  },
  {
   "cell_type": "markdown",
   "metadata": {},
   "source": []
  },
  {
   "cell_type": "code",
   "execution_count": 30,
   "metadata": {},
   "outputs": [
    {
     "name": "stdout",
     "output_type": "stream",
     "text": [
      "Encrypted message in ascii:  134178334573442195028495388061517740015630743205964170088616651442900492748739957973542882863312586462757462837314834866981060018375704352585299405203736567703766522814080056072617714830121697882214346068996635305311787783530535308476951918580606086549945536884252971401314748304296167740025489980760343293465\n",
      "Encrypted message in String:  ²ŎȽƺÃ\u001cǯƄ=ȅˤ\u000fɶ˧ÍτªXɨʋƺ΄ǬˬˣνύȞͲ͟ĸɊǎ˵ǎͅĺ͂͢ϕ<\u0012ŷˀŠɉīƕËˠȷʿ˾Ȋ̮P8Hɩˊ̾yʹͲÖŚDϤɻıķ̓̏ȒȗĴǜηΖɄɞVȥαȘʹüϋƑĺˬİĨ§ˤ\u0019ǩϔ˸ŗĥǑ\n"
     ]
    }
   ],
   "source": [
    "message = \"Your Auntie\"\n",
    "\n",
    "ascii_message = convert_to_ascii(message)\n",
    "ascii_message.bit_length()\n",
    "\n",
    "encrypted_message = RSA_encrypt(ascii_message, e, N)\n",
    "print('Encrypted message in ascii: ', encrypted_message)\n",
    "print('Encrypted message in String: ', convert_to_string(encrypted_message))\n",
    "\n"
   ]
  },
  {
   "cell_type": "code",
   "execution_count": 31,
   "metadata": {},
   "outputs": [
    {
     "name": "stdout",
     "output_type": "stream",
     "text": [
      "Decrypted msg in ascii:  89111117114032065117110116105101\n",
      "Decrypted msg in string:  Your Auntie\n"
     ]
    }
   ],
   "source": [
    "decrypted_message = RSA_decrypt(encrypted_message, d, N)\n",
    "\n",
    "print('Decrypted msg in ascii: ', decrypted_message)\n",
    "print('Decrypted msg in string: ', convert_to_string(decrypted_message))"
   ]
  },
  {
   "cell_type": "code",
   "execution_count": 32,
   "metadata": {},
   "outputs": [],
   "source": [
    "def bitlength(x):\n",
    "    '''\n",
    "    Calculates the bitlength of x\n",
    "    '''\n",
    "    assert x >= 0\n",
    "    n = 0\n",
    "    while x > 0:\n",
    "        n = n+1\n",
    "        x = x>>1\n",
    "    return n"
   ]
  },
  {
   "cell_type": "code",
   "execution_count": 33,
   "metadata": {},
   "outputs": [],
   "source": [
    "def isqrt(n):\n",
    "    '''\n",
    "    Calculates the integer square root\n",
    "    for arbitrary large nonnegative integers\n",
    "    '''\n",
    "    if n < 0:\n",
    "        raise ValueError('square root not defined for negative numbers')\n",
    "    \n",
    "    if n == 0:\n",
    "        return 0\n",
    "    a, b = divmod(bitlength(n), 2)\n",
    "    x = 2**(a+b)\n",
    "    while True:\n",
    "        y = (x + n//x)//2\n",
    "        if y >= x:\n",
    "            return x\n",
    "        x = y"
   ]
  },
  {
   "cell_type": "code",
   "execution_count": 34,
   "metadata": {},
   "outputs": [],
   "source": [
    "def is_perfect_square(n):\n",
    "    '''\n",
    "    If n is a perfect square it returns sqrt(n),\n",
    "    \n",
    "    otherwise returns -1\n",
    "    '''\n",
    "    h = n & 0xF; #last hexadecimal \"digit\"\n",
    "    \n",
    "    if h > 9:\n",
    "        return -1 # return immediately in 6 cases out of 16.\n",
    "\n",
    "    # Take advantage of Boolean short-circuit evaluation\n",
    "    if ( h != 2 and h != 3 and h != 5 and h != 6 and h != 7 and h != 8 ):\n",
    "        # take square root if you must\n",
    "        t = isqrt(n)\n",
    "        if t*t == n:\n",
    "            return t\n",
    "        else:\n",
    "            return -1\n",
    "    \n",
    "    return -1"
   ]
  },
  {
   "cell_type": "markdown",
   "metadata": {},
   "source": [
    "## Wiener Attack \n",
    "\n",
    "Attacker only knows public parameters {n, e} and does not know any other parameters \n",
    "\n",
    "Goal: To check if implementation by user is careless and get the decryption exponent d to compromise encryption"
   ]
  },
  {
   "cell_type": "code",
   "execution_count": 35,
   "metadata": {},
   "outputs": [],
   "source": [
    "def wiener_attack(e, n):\n",
    "    frac = rational_to_contfrac(e, n)\n",
    "    convergents = convergents_from_contfrac(frac)\n",
    "\n",
    "    for (k ,d) in convergents:\n",
    "\n",
    "        if k!=0 and (e*d-1) % k == 0:\n",
    "            phi = (e*d-1) // k\n",
    "            s = n - phi + 1\n",
    "\n",
    "            discr = s * s - 4 * n\n",
    "\n",
    "            if discr >= 0:\n",
    "                t = is_perfect_square(discr)\n",
    "                if t!= -1 and (s+t) % 2 == 0:\n",
    "                    print(\"Hacked\")\n",
    "                    return d"
   ]
  },
  {
   "cell_type": "code",
   "execution_count": 36,
   "metadata": {},
   "outputs": [
    {
     "name": "stdout",
     "output_type": "stream",
     "text": [
      "Hacked\n",
      "Hack Worked\n",
      "Your Auntie\n"
     ]
    }
   ],
   "source": [
    "times = 5\n",
    "\n",
    "while times > 0:\n",
    "    hacked_d = wiener_attack(e, N)\n",
    "\n",
    "    if d == hacked_d:\n",
    "        print('Hack Worked')\n",
    "        hack_decrypted_message = RSA_decrypt(encrypted_message, hacked_d, N)\n",
    "        print(convert_to_string(hack_decrypted_message))\n",
    "        break\n",
    "    else:\n",
    "        print('Hack Failed')\n",
    "\n",
    "    times -= 1"
   ]
  },
  {
   "cell_type": "code",
   "execution_count": null,
   "metadata": {},
   "outputs": [],
   "source": []
  }
 ],
 "metadata": {
  "kernelspec": {
   "display_name": "Python 3",
   "language": "python",
   "name": "python3"
  },
  "language_info": {
   "codemirror_mode": {
    "name": "ipython",
    "version": 3
   },
   "file_extension": ".py",
   "mimetype": "text/x-python",
   "name": "python",
   "nbconvert_exporter": "python",
   "pygments_lexer": "ipython3",
   "version": "3.9.7"
  }
 },
 "nbformat": 4,
 "nbformat_minor": 2
}
