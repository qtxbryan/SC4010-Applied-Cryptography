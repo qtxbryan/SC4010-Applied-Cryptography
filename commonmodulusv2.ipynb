{
 "cells": [
  {
   "cell_type": "markdown",
   "metadata": {},
   "source": [
    "## Common Modulus Attack \n",
    "\n",
    "what will happen when the same message is encrypted twice with the same modulus but using a different public key"
   ]
  },
  {
   "cell_type": "code",
   "execution_count": 1,
   "metadata": {},
   "outputs": [],
   "source": [
    "import secrets"
   ]
  },
  {
   "cell_type": "code",
   "execution_count": 2,
   "metadata": {},
   "outputs": [],
   "source": [
    "def gcd(a,b):\n",
    "    while(b):\n",
    "        a, b = b, a % b\n",
    "    return a"
   ]
  },
  {
   "cell_type": "code",
   "execution_count": 3,
   "metadata": {},
   "outputs": [],
   "source": [
    "def RMPT(p, s):\n",
    "    q = p - 1\n",
    "    k = 0 \n",
    "    \n",
    "    # if newP % 2 have remainder then stop\n",
    "    while q % 2 != 1: \n",
    "        q //= 2 \n",
    "        k += 1 \n",
    "\n",
    "    for i in range(s):\n",
    "        #Generate random a \n",
    "        a = secrets.randbelow(p-2) + 2 \n",
    "\n",
    "        while gcd(a,p) != 1:\n",
    "            a = secrets.randbelow(p-2) + 2\n",
    "            \n",
    "        z = pow(a, q, p) # z = a^q mod p\n",
    "\n",
    "        # checking a^q != 1 mod p and a^q != -1 mod p \n",
    "        if z != 1 and z != p-1:\n",
    "            for j in range(1, k):\n",
    "                z = pow(z, 2, p)\n",
    "                if z == 1:\n",
    "                    return False\n",
    "\n",
    "            if z != p-1:\n",
    "                return False\n",
    "    return True"
   ]
  },
  {
   "cell_type": "code",
   "execution_count": 4,
   "metadata": {},
   "outputs": [],
   "source": [
    "def convert_to_ascii(message):\n",
    "    ascii_message = \"\"\n",
    "    for char in message:\n",
    "        ascii_char = ord(char)\n",
    "        ascii_char = str(ascii_char)\n",
    "        ascii_char = ascii_char.zfill(3)\n",
    "        ascii_message += ascii_char\n",
    "    return int(ascii_message)"
   ]
  },
  {
   "cell_type": "code",
   "execution_count": 5,
   "metadata": {},
   "outputs": [],
   "source": [
    "from textwrap import wrap\n",
    "\n",
    "def convert_to_string(ascii_message):\n",
    "    message = \"\"\n",
    "    ascii_message = str(ascii_message)\n",
    "    if(len(ascii_message) % 3 != 0):\n",
    "        for _ in range(3 - len(ascii_message) % 3):\n",
    "            ascii_message = \"0\" + ascii_message\n",
    "    ascii_list = wrap(ascii_message, 3)\n",
    "    for ascii in ascii_list:\n",
    "        message = message + chr(int(ascii))\n",
    "    return message"
   ]
  },
  {
   "cell_type": "code",
   "execution_count": 6,
   "metadata": {},
   "outputs": [],
   "source": [
    "def RSA_generate_d(e, p, q):\n",
    "    N = p * q\n",
    "    phiN = (p-1)*(q-1)\n",
    "    assert gcd(e, phiN) == 1, \"GCD of e and Phi N must be 1\"\n",
    "    d = pow(e, -1, phiN)\n",
    "\n",
    "    return d\n"
   ]
  },
  {
   "cell_type": "code",
   "execution_count": 7,
   "metadata": {},
   "outputs": [],
   "source": [
    "def RSA_encrypt(ascii_message, e, N):\n",
    "    encrypted_message = pow(ascii_message, e, N)\n",
    "    return encrypted_message"
   ]
  },
  {
   "cell_type": "code",
   "execution_count": 8,
   "metadata": {},
   "outputs": [],
   "source": [
    "def generate_prime(bits, rounds):\n",
    "    while(True):\n",
    "        num = secrets.randbits(bits) # using CSRPNG to generate\n",
    "\n",
    "        # if number is even make it odd \n",
    "        if num % 2 == 0:\n",
    "            num += 1\n",
    "\n",
    "        elif num % 3 == 0:\n",
    "            continue \n",
    "\n",
    "        elif num % 5 == 0:\n",
    "            continue\n",
    "\n",
    "        elif num % 7 == 0:\n",
    "            continue\n",
    "\n",
    "        elif num % 11 == 0: \n",
    "            continue\n",
    "\n",
    "        elif RMPT(num, rounds):\n",
    "            return num\n"
   ]
  },
  {
   "cell_type": "code",
   "execution_count": 19,
   "metadata": {},
   "outputs": [],
   "source": [
    "def extended_gcd(a, b):\n",
    "    if a == 0:\n",
    "        return b, 0, 1\n",
    "    else:\n",
    "        g, x, y = extended_gcd(b % a, a)\n",
    "        return g, y - (b // a) * x, x\n",
    "\n",
    "def modinv(a, m):\n",
    "    g, x, y = extended_gcd(a, m)\n",
    "    if g != 1:\n",
    "        raise ValueError('Modular inverse does not exist.')\n",
    "    else:\n",
    "        return x % m"
   ]
  },
  {
   "cell_type": "markdown",
   "metadata": {},
   "source": [
    "## Known to attacker<br>\n",
    "e1 = public key of first cipher text<br>\n",
    "c1 = first cipher text<br>\n",
    "e2 = public key of the second cipher text<br>\n",
    "c2 = second cipher text<br>\n",
    "n = modulus that is common to both cipher text"
   ]
  },
  {
   "cell_type": "code",
   "execution_count": 9,
   "metadata": {},
   "outputs": [],
   "source": [
    "p = generate_prime(512, 3)\n",
    "q = generate_prime(512, 3)\n",
    "\n",
    "N = p * q\n",
    "\n",
    "e1 = 17 \n",
    "e2 = 257 \n"
   ]
  },
  {
   "cell_type": "code",
   "execution_count": 10,
   "metadata": {},
   "outputs": [
    {
     "name": "stdout",
     "output_type": "stream",
     "text": [
      "89111117114032065117110116105101032118101114121032112114101116116121\n"
     ]
    },
    {
     "data": {
      "text/plain": [
       "226"
      ]
     },
     "execution_count": 10,
     "metadata": {},
     "output_type": "execute_result"
    }
   ],
   "source": [
    "d1 = RSA_generate_d(e1, p, q)\n",
    "d2 = RSA_generate_d(e2, p, q)\n",
    "\n",
    "message = \"Your Auntie very pretty\"\n",
    "ascii_message = convert_to_ascii(message)\n",
    "print(ascii_message)\n",
    "ascii_message.bit_length()"
   ]
  },
  {
   "cell_type": "code",
   "execution_count": 11,
   "metadata": {},
   "outputs": [],
   "source": [
    "encrypted_message1 = RSA_encrypt(ascii_message, e1, N)\n",
    "encrypted_message2 = RSA_encrypt(ascii_message, e2, N)"
   ]
  },
  {
   "cell_type": "markdown",
   "metadata": {},
   "source": [
    "### Conditions of the attack\n",
    "\n",
    "Must make sure that these inverses exist in the first place:\n",
    "- gcd(e1, e2) = 1\n",
    "- gcd(c2, n) = 1"
   ]
  },
  {
   "cell_type": "code",
   "execution_count": 13,
   "metadata": {},
   "outputs": [],
   "source": [
    "while True: \n",
    "    if gcd(e1, e2) != 1: \n",
    "        input('Pick new e1: ', e1)\n",
    "        input('Pick new e2: ', e2)\n",
    "        encrypted_message1 = RSA_encrypt(ascii_message, e1, N)\n",
    "        encrypted_message2 = RSA_encrypt(ascii_message, e2, N)\n",
    "    if gcd(encrypted_message2, N) != 1:\n",
    "        p = generate_prime(512, 3)\n",
    "        q = generate_prime(512, 3)\n",
    "        N = p * q\n",
    "        encrypted_message1 = RSA_encrypt(ascii_message, e1, N)\n",
    "        encrypted_message2 = RSA_encrypt(ascii_message, e2, N)\n",
    "    else:\n",
    "        break"
   ]
  },
  {
   "cell_type": "markdown",
   "metadata": {},
   "source": [
    "## Attack\n",
    "\n",
    "Since we know e1 and e2 are coprime<br>\n",
    "<br>\n",
    "xe1 + ye2 = gcd(e1, e2) = 1\n",
    "\n",
    "To solve for x and y we use extended euclidean algorithm to solve gcd(e1, e2)\n",
    "\n",
    "Decrypt first message using x: (m^e1)^x\n"
   ]
  },
  {
   "cell_type": "code",
   "execution_count": 27,
   "metadata": {},
   "outputs": [
    {
     "name": "stdout",
     "output_type": "stream",
     "text": [
      "gcd:  1\n",
      "coefficient x and y:  121 -8\n",
      "Decrypt 1:  5971232700199762415948234826355095088851862549329655593785472838759376285846072002255647681701574436590564951175693440920495805093213199394682712246400646054122628037957900343337245372360879043036513954669506795963806012638591189270772295378896928609851987539099660868358768753267141232044478484320006833343\n",
      "Decrypt 2:  2751143231251489219319837335963372080359138778874381119026204828365910696930591152335906620827715391438238003643503940331932546737996535685598693340691936690383490633422706358291683392061567893018667358177192589545624781028959531983732669446950353875928457823469034100679959088037469564342167031665016924712\n",
      "Hacked attempt:  Your Auntie very pretty\n",
      "Initial Message:  Your Auntie very pretty\n"
     ]
    }
   ],
   "source": [
    "result = extended_gcd(e1, e2)\n",
    "print('gcd: ', result[0])\n",
    "print('coefficient x and y: ', result[1], result[2])\n",
    "x = result[1]\n",
    "y = result[2]\n",
    "\n",
    "# Decrypt first encrypted message with x\n",
    "decrypt_1 = pow(encrypted_message1, x, N)\n",
    "print('Decrypt 1: ', decrypt_1)\n",
    "\n",
    "# Decrypt second encrypted message with y\n",
    "encrypt_inv = pow(encrypted_message2, -1, N)\n",
    "decrypt_2 = pow(encrypt_inv, -y, N)\n",
    "print('Decrypt 2: ', decrypt_2)\n",
    "\n",
    "decrypt_attempt = (decrypt_1 * decrypt_2) % N\n",
    "\n",
    "print('Hacked attempt: ', convert_to_string(decrypt_attempt))\n",
    "print('Initial Message: ', message)\n",
    "\n"
   ]
  },
  {
   "cell_type": "code",
   "execution_count": null,
   "metadata": {},
   "outputs": [],
   "source": []
  }
 ],
 "metadata": {
  "kernelspec": {
   "display_name": "Python 3",
   "language": "python",
   "name": "python3"
  },
  "language_info": {
   "codemirror_mode": {
    "name": "ipython",
    "version": 3
   },
   "file_extension": ".py",
   "mimetype": "text/x-python",
   "name": "python",
   "nbconvert_exporter": "python",
   "pygments_lexer": "ipython3",
   "version": "3.9.7"
  }
 },
 "nbformat": 4,
 "nbformat_minor": 2
}
