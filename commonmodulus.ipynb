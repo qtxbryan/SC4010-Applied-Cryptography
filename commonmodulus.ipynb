{
 "cells": [
  {
   "cell_type": "markdown",
   "metadata": {},
   "source": [
    "## Common Modulus Attack\n",
    "\n",
    "What will happen when the same message is encrypted twice with the same modulus but using a different public key?"
   ]
  },
  {
   "cell_type": "code",
   "execution_count": 2,
   "metadata": {},
   "outputs": [],
   "source": [
    "import secrets"
   ]
  },
  {
   "cell_type": "code",
   "execution_count": 3,
   "metadata": {},
   "outputs": [],
   "source": [
    "def gcd(a, b):\n",
    "    while(b):\n",
    "        a, b = b, a % b \n",
    "    return a"
   ]
  },
  {
   "cell_type": "code",
   "execution_count": 4,
   "metadata": {},
   "outputs": [],
   "source": [
    "def RMPT(p, s):\n",
    "    q = p - 1\n",
    "    k = 0 \n",
    "    \n",
    "    # if newP % 2 have remainder then stop\n",
    "    while q % 2 != 1: \n",
    "        q //= 2 \n",
    "        k += 1 \n",
    "\n",
    "    for i in range(s):\n",
    "        #Generate random a \n",
    "        a = secrets.randbelow(p-2) + 2 \n",
    "\n",
    "        while gcd(a,p) != 1:\n",
    "            a = secrets.randbelow(p-2) + 2\n",
    "            \n",
    "        z = pow(a, q, p) # z = a^q mod p\n",
    "\n",
    "        # checking a^q != 1 mod p and a^q != -1 mod p \n",
    "        if z != 1 and z != p-1:\n",
    "            for j in range(1, k):\n",
    "                z = pow(z, 2, p)\n",
    "                if z == 1:\n",
    "                    return False\n",
    "\n",
    "            if z != p-1:\n",
    "                return False\n",
    "    return True"
   ]
  },
  {
   "cell_type": "code",
   "execution_count": 5,
   "metadata": {},
   "outputs": [],
   "source": [
    "def convert_to_ascii(message):\n",
    "    ascii_message = \"\"\n",
    "    for char in message:\n",
    "        ascii_char = ord(char)\n",
    "        ascii_char = str(ascii_char)\n",
    "        ascii_char = ascii_char.zfill(3)\n",
    "        ascii_message += ascii_char\n",
    "    return int(ascii_message)"
   ]
  },
  {
   "cell_type": "code",
   "execution_count": 6,
   "metadata": {},
   "outputs": [],
   "source": [
    "from textwrap import wrap\n",
    "\n",
    "def convert_to_string(ascii_message):\n",
    "    message = \"\"\n",
    "    ascii_message = str(ascii_message)\n",
    "    if(len(ascii_message) % 3 != 0):\n",
    "        for _ in range(3 - len(ascii_message) % 3):\n",
    "            ascii_message = \"0\" + ascii_message\n",
    "    ascii_list = wrap(ascii_message, 3)\n",
    "    for ascii in ascii_list:\n",
    "        message = message + chr(int(ascii))\n",
    "    return message"
   ]
  },
  {
   "cell_type": "code",
   "execution_count": 7,
   "metadata": {},
   "outputs": [],
   "source": [
    "def RSA_generate_d(e, p, q):\n",
    "    N = p * q\n",
    "    phiN = (p-1)*(q-1)\n",
    "    assert gcd(e, phiN) == 1, \"GCD of e and Phi N must be 1\"\n",
    "    d = pow(e, -1, phiN)\n",
    "\n",
    "    return d\n"
   ]
  },
  {
   "cell_type": "code",
   "execution_count": 8,
   "metadata": {},
   "outputs": [],
   "source": [
    "def RSA_encrypt(ascii_message, e, N):\n",
    "    encrypted_message = pow(ascii_message, e, N)\n",
    "    return encrypted_message"
   ]
  },
  {
   "cell_type": "code",
   "execution_count": 9,
   "metadata": {},
   "outputs": [],
   "source": [
    "def generate_prime(bits, rounds):\n",
    "    while(True):\n",
    "        num = secrets.randbits(bits) # using CSRPNG to generate\n",
    "\n",
    "        # if number is even make it odd \n",
    "        if num % 2 == 0:\n",
    "            num += 1\n",
    "\n",
    "        elif num % 3 == 0:\n",
    "            continue \n",
    "\n",
    "        elif num % 5 == 0:\n",
    "            continue\n",
    "\n",
    "        elif num % 7 == 0:\n",
    "            continue\n",
    "\n",
    "        elif num % 11 == 0: \n",
    "            continue\n",
    "\n",
    "        elif RMPT(num, rounds):\n",
    "            return num\n"
   ]
  },
  {
   "cell_type": "markdown",
   "metadata": {},
   "source": [
    "## Known to attacker<br>\n",
    "e1 = public key of first cipher text<br>\n",
    "c1 = first cipher text<br>\n",
    "e2 = public key of the second cipher text<br>\n",
    "c2 = second cipher text<br>\n",
    "n = modulus that is common to both cipher text"
   ]
  },
  {
   "cell_type": "code",
   "execution_count": 40,
   "metadata": {},
   "outputs": [],
   "source": [
    "p = generate_prime(512, 3)\n",
    "q = generate_prime(512, 3)\n",
    "\n",
    "N = p * q\n",
    "\n",
    "e1 = 17 \n",
    "e2 = 257 \n"
   ]
  },
  {
   "cell_type": "code",
   "execution_count": 41,
   "metadata": {},
   "outputs": [
    {
     "name": "stdout",
     "output_type": "stream",
     "text": [
      "89111117114032065117110116105101032118101114121032112114101116116121\n"
     ]
    },
    {
     "data": {
      "text/plain": [
       "226"
      ]
     },
     "execution_count": 41,
     "metadata": {},
     "output_type": "execute_result"
    }
   ],
   "source": [
    "d1 = RSA_generate_d(e1, p, q)\n",
    "d2 = RSA_generate_d(e2, p, q)\n",
    "\n",
    "message = \"Your Auntie very pretty\"\n",
    "ascii_message = convert_to_ascii(message)\n",
    "print(ascii_message)\n",
    "ascii_message.bit_length()"
   ]
  },
  {
   "cell_type": "markdown",
   "metadata": {},
   "source": [
    "Encrypting the same message twice using different key same modulus "
   ]
  },
  {
   "cell_type": "code",
   "execution_count": 42,
   "metadata": {},
   "outputs": [],
   "source": [
    "encrypted_message1 = RSA_encrypt(ascii_message, e1, N)\n",
    "encrypted_message2 = RSA_encrypt(ascii_message, e2, N)"
   ]
  },
  {
   "cell_type": "markdown",
   "metadata": {},
   "source": [
    "### Conditions of the attack\n",
    "\n",
    "Must make sure that these inverses exist in the first place:\n",
    "- gcd(e1, e2) = 1\n",
    "- gcd(c2, n) = 1"
   ]
  },
  {
   "cell_type": "code",
   "execution_count": 43,
   "metadata": {},
   "outputs": [
    {
     "name": "stdout",
     "output_type": "stream",
     "text": [
      "1\n",
      "1\n"
     ]
    }
   ],
   "source": [
    "while True:\n",
    "    if gcd(e1, e2) != 1:\n",
    "        print('pick a new e1 and e2')\n",
    "        break\n",
    "    if gcd(encrypted_message2, N) != 1:\n",
    "        p = generate_prime(512, 3)\n",
    "        q = generate_prime(512, 3)\n",
    "        N = p * q\n",
    "    else:\n",
    "        break\n",
    "\n",
    "\n",
    "## Test\n",
    "print(gcd(e1,e2))\n",
    "print(gcd(encrypted_message2,N))"
   ]
  },
  {
   "cell_type": "markdown",
   "metadata": {},
   "source": [
    "Inverse mod and extended euclid algo "
   ]
  },
  {
   "cell_type": "code",
   "execution_count": 44,
   "metadata": {},
   "outputs": [],
   "source": [
    "def egcd(a, b):\n",
    "    if a == 0:\n",
    "        return (b, 0, 1)\n",
    "    else:\n",
    "        g, x, y =egcd(b % a, a)\n",
    "        return (g, x - (b // a) * y, y)\n",
    "\n",
    "def modinv(a, m):\n",
    "    g, x, y = egcd(a, m)\n",
    "    if g != 1:\n",
    "        raise ValueError('Modular inverse does not exist.')\n",
    "    else:\n",
    "        return x % m"
   ]
  },
  {
   "cell_type": "markdown",
   "metadata": {},
   "source": [
    "Attack"
   ]
  },
  {
   "cell_type": "code",
   "execution_count": 45,
   "metadata": {},
   "outputs": [],
   "source": [
    "def attack(encrypted_message1, encrypted_message2, e1, e2, N):\n",
    "    s1 = modinv(e1,e2)\n",
    "    s2 = (gcd(e1,e2) - e1 * s1) / e2\n",
    "    temp = modinv(encrypted_message2, N)\n",
    "    m1 = pow(encrypted_message1,s1,N)\n",
    "    m2 = pow(temp,-s2,N)\n",
    "    return (m1 * m2) % N"
   ]
  },
  {
   "cell_type": "code",
   "execution_count": 46,
   "metadata": {},
   "outputs": [
    {
     "ename": "TypeError",
     "evalue": "pow() 3rd argument not allowed unless all arguments are integers",
     "output_type": "error",
     "traceback": [
      "\u001b[0;31m---------------------------------------------------------------------------\u001b[0m",
      "\u001b[0;31mTypeError\u001b[0m                                 Traceback (most recent call last)",
      "\u001b[1;32m/Users/bryantan/Documents/SC4010-Applied-Cryptography/commonmodulus.ipynb Cell 21\u001b[0m line \u001b[0;36m<module>\u001b[0;34m\u001b[0m\n\u001b[0;32m----> <a href='vscode-notebook-cell:/Users/bryantan/Documents/SC4010-Applied-Cryptography/commonmodulus.ipynb#X34sZmlsZQ%3D%3D?line=0'>1</a>\u001b[0m message \u001b[39m=\u001b[39m attack(encrypted_message1, encrypted_message2, e1, e2, N)\n\u001b[1;32m      <a href='vscode-notebook-cell:/Users/bryantan/Documents/SC4010-Applied-Cryptography/commonmodulus.ipynb#X34sZmlsZQ%3D%3D?line=1'>2</a>\u001b[0m \u001b[39mprint\u001b[39m(message)\n",
      "\u001b[1;32m/Users/bryantan/Documents/SC4010-Applied-Cryptography/commonmodulus.ipynb Cell 21\u001b[0m line \u001b[0;36mattack\u001b[0;34m(encrypted_message1, encrypted_message2, e1, e2, N)\u001b[0m\n\u001b[1;32m      <a href='vscode-notebook-cell:/Users/bryantan/Documents/SC4010-Applied-Cryptography/commonmodulus.ipynb#X34sZmlsZQ%3D%3D?line=3'>4</a>\u001b[0m temp \u001b[39m=\u001b[39m modinv(encrypted_message2, N)\n\u001b[1;32m      <a href='vscode-notebook-cell:/Users/bryantan/Documents/SC4010-Applied-Cryptography/commonmodulus.ipynb#X34sZmlsZQ%3D%3D?line=4'>5</a>\u001b[0m m1 \u001b[39m=\u001b[39m \u001b[39mpow\u001b[39m(encrypted_message1,s1,N)\n\u001b[0;32m----> <a href='vscode-notebook-cell:/Users/bryantan/Documents/SC4010-Applied-Cryptography/commonmodulus.ipynb#X34sZmlsZQ%3D%3D?line=5'>6</a>\u001b[0m m2 \u001b[39m=\u001b[39m \u001b[39mpow\u001b[39;49m(temp,\u001b[39m-\u001b[39;49ms2,N)\n\u001b[1;32m      <a href='vscode-notebook-cell:/Users/bryantan/Documents/SC4010-Applied-Cryptography/commonmodulus.ipynb#X34sZmlsZQ%3D%3D?line=6'>7</a>\u001b[0m \u001b[39mreturn\u001b[39;00m (m1 \u001b[39m*\u001b[39m m2) \u001b[39m%\u001b[39m N\n",
      "\u001b[0;31mTypeError\u001b[0m: pow() 3rd argument not allowed unless all arguments are integers"
     ]
    }
   ],
   "source": [
    "message = attack(encrypted_message1, encrypted_message2, e1, e2, N)\n",
    "print(message)"
   ]
  },
  {
   "cell_type": "code",
   "execution_count": null,
   "metadata": {},
   "outputs": [],
   "source": []
  }
 ],
 "metadata": {
  "kernelspec": {
   "display_name": "Python 3",
   "language": "python",
   "name": "python3"
  },
  "language_info": {
   "codemirror_mode": {
    "name": "ipython",
    "version": 3
   },
   "file_extension": ".py",
   "mimetype": "text/x-python",
   "name": "python",
   "nbconvert_exporter": "python",
   "pygments_lexer": "ipython3",
   "version": "3.9.7"
  }
 },
 "nbformat": 4,
 "nbformat_minor": 2
}
