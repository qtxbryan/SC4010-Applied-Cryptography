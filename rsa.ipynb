{
 "cells": [
  {
   "cell_type": "code",
   "execution_count": 2,
   "metadata": {},
   "outputs": [],
   "source": [
    "import random \n",
    "import secrets\n",
    "from decimal import *"
   ]
  },
  {
   "cell_type": "markdown",
   "metadata": {},
   "source": [
    "Returns the GCD of 2 numbers"
   ]
  },
  {
   "cell_type": "code",
   "execution_count": 3,
   "metadata": {},
   "outputs": [],
   "source": [
    "def gcd(a, b):\n",
    "    while(b):\n",
    "        a, b = b, a % b \n",
    "    return a"
   ]
  },
  {
   "cell_type": "markdown",
   "metadata": {},
   "source": [
    "Rabin-Miller Primality Test <br>\n",
    "Check if number is prime, p is the number to be tested and s is the number of rounds <br>\n",
    "S should ensure probabilitiy of p not being prime is < 2^(-80)"
   ]
  },
  {
   "cell_type": "code",
   "execution_count": 6,
   "metadata": {},
   "outputs": [],
   "source": [
    "def RMPT(p, s):\n",
    "    q = p - 1\n",
    "    k = 0 \n",
    "    \n",
    "    # if newP % 2 have remainder then stop\n",
    "    while q % 2 != 1: \n",
    "        q //= 2 \n",
    "        k += 1 \n",
    "\n",
    "    for i in range(s):\n",
    "        #Generate random a \n",
    "        a = random.randrange(2, p-2)\n",
    "\n",
    "        while gcd(a,p) != 1:\n",
    "            a = random.randrange(2, p-2)\n",
    "            \n",
    "        z = pow(a, q, p) # z = a^q mod p\n",
    "\n",
    "        # checking a^q != 1 mod p and a^q != -1 mod p \n",
    "        if z != 1 and z != p-1:\n",
    "            for j in range(1, k):\n",
    "                z = pow(z, 2, p)\n",
    "                if z == 1:\n",
    "                    return False\n",
    "\n",
    "            if z != p-1:\n",
    "                return False\n",
    "    return True"
   ]
  },
  {
   "cell_type": "code",
   "execution_count": 52,
   "metadata": {},
   "outputs": [
    {
     "name": "stdout",
     "output_type": "stream",
     "text": [
      "True\n"
     ]
    }
   ],
   "source": [
    "# Check the result \n",
    "print(RMPT(58536828032471131348456426324506659436967195846753702250333704608966791528534067798278728747981548972696886762937373961684727824495513261968904996453134494716095278694362125703914706608360435446792042241177272588181082115012537677828367957226772929218486970585153142173891310402614698182537457744036891034121, 2))"
   ]
  },
  {
   "cell_type": "markdown",
   "metadata": {},
   "source": [
    "AKS Primality Test TODO"
   ]
  },
  {
   "cell_type": "markdown",
   "metadata": {},
   "source": [
    "Convert a string to ascii"
   ]
  },
  {
   "cell_type": "code",
   "execution_count": 14,
   "metadata": {},
   "outputs": [],
   "source": [
    "def convert_to_ascii(message):\n",
    "    ascii_message = \"\"\n",
    "    for char in message:\n",
    "        ascii_char = ord(char)\n",
    "        ascii_char = str(ascii_char)\n",
    "        ascii_char = ascii_char.zfill(3)\n",
    "        ascii_message += ascii_char\n",
    "    return int(ascii_message)"
   ]
  },
  {
   "cell_type": "code",
   "execution_count": 19,
   "metadata": {},
   "outputs": [
    {
     "name": "stdout",
     "output_type": "stream",
     "text": [
      "72101108108111\n"
     ]
    }
   ],
   "source": [
    "print(convert_to_ascii('Hello'))"
   ]
  },
  {
   "cell_type": "markdown",
   "metadata": {},
   "source": [
    "Convert ascii back to String"
   ]
  },
  {
   "cell_type": "code",
   "execution_count": 15,
   "metadata": {},
   "outputs": [],
   "source": [
    "from textwrap import wrap\n",
    "\n",
    "def convert_to_string(ascii_message):\n",
    "    message = \"\"\n",
    "    ascii_message = str(ascii_message)\n",
    "    if(len(ascii_message) % 3 != 0):\n",
    "        for _ in range(3 - len(ascii_message) % 3):\n",
    "            ascii_message = \"0\" + ascii_message\n",
    "    ascii_list = wrap(ascii_message, 3)\n",
    "    for ascii in ascii_list:\n",
    "        message = message + chr(int(ascii))\n",
    "    return message"
   ]
  },
  {
   "cell_type": "markdown",
   "metadata": {},
   "source": [
    "Generate decryption key using public key e and 2 prime p and q"
   ]
  },
  {
   "cell_type": "code",
   "execution_count": 48,
   "metadata": {},
   "outputs": [],
   "source": [
    "def RSA_generate_d(e, p, q):\n",
    "    N = p * q\n",
    "    phiN = (p-1)*(q-1)\n",
    "    assert gcd(e, phiN) == 1, \"GCD of e and Phi N must be 1\"\n",
    "    d = pow(e, -1, phiN)\n",
    "\n",
    "    return d\n"
   ]
  },
  {
   "cell_type": "markdown",
   "metadata": {},
   "source": [
    "Encrypt with public key e (TODO need to add if plaintext to encrypt is more than N)"
   ]
  },
  {
   "cell_type": "code",
   "execution_count": 34,
   "metadata": {},
   "outputs": [],
   "source": [
    "def RSA_encrypt(ascii_message, e, N):\n",
    "    encrypted_message = pow(ascii_message, e, N)\n",
    "    return encrypted_message"
   ]
  },
  {
   "cell_type": "markdown",
   "metadata": {},
   "source": [
    "Decrypt using private key d"
   ]
  },
  {
   "cell_type": "code",
   "execution_count": 36,
   "metadata": {},
   "outputs": [],
   "source": [
    "def RSA_decrypt(encrypted_msg, d, N):\n",
    "    ascii_msg = pow(encrypted_msg, d, N)\n",
    "    return ascii_msg"
   ]
  },
  {
   "cell_type": "markdown",
   "metadata": {},
   "source": [
    "Generate Primes p and q "
   ]
  },
  {
   "cell_type": "code",
   "execution_count": 47,
   "metadata": {},
   "outputs": [],
   "source": [
    "def generate_prime(bits, rounds):\n",
    "    while(True):\n",
    "        num = secrets.randbits(bits) # using CSRPNG to generate\n",
    "\n",
    "        # if number is even make it odd \n",
    "        if num % 2 == 0:\n",
    "            num += 1\n",
    "\n",
    "        elif num % 3 == 0:\n",
    "            continue \n",
    "\n",
    "        elif num % 5 == 0:\n",
    "            continue\n",
    "\n",
    "        elif num % 7 == 0:\n",
    "            continue\n",
    "\n",
    "        elif num % 11 == 0: \n",
    "            continue\n",
    "\n",
    "        elif RMPT(num, rounds):\n",
    "            return num\n"
   ]
  },
  {
   "cell_type": "markdown",
   "metadata": {},
   "source": [
    "## RSA 1024 \n",
    "\n",
    "Encrypt message using RSA 1024 \n",
    "<br><br>\n",
    "Generate primes p and q <br>\n",
    "Encryption exponent e = 3 <br>\n",
    "\n",
    "<b> Finding decryption exponent </b>"
   ]
  },
  {
   "cell_type": "code",
   "execution_count": 50,
   "metadata": {},
   "outputs": [
    {
     "name": "stdout",
     "output_type": "stream",
     "text": [
      "p is:  160928794429157028636714174237532759674435662625572191069565198589310112702266626349324461276175304708822314240187549152488972718608199468756005463260356764721505918894840271744427903644071421487050350932627173608270638502243672686264783137347435761252651070655811593976564141521779308480491015502158150666757\n",
      "q is:  58536828032471131348456426324506659436967195846753702250333704608966791528534067798278728747981548972696886762937373961684727824495513261968904996453134494716095278694362125703914706608360435446792042241177272588181082115012537677828367957226772929218486970585153142173891310402614698182537457744036891034121\n"
     ]
    }
   ],
   "source": [
    "e = 3\n",
    "phi_test = False\n",
    "\n",
    "while (phi_test == False):\n",
    "    p = generate_prime(1024, 3)\n",
    "    q = generate_prime(1024, 3)\n",
    "\n",
    "    phiN = (p-1) * (q-1)\n",
    "\n",
    "    if gcd(e, phiN) == 1:\n",
    "        phi_test = True\n",
    "\n",
    "print('p is: ', p)\n",
    "print('q is: ', q)\n",
    "d = RSA_generate_d(e, p, q)\n",
    "N = p * q"
   ]
  },
  {
   "cell_type": "markdown",
   "metadata": {},
   "source": [
    "Preparing message for encryption, converting it to ascii"
   ]
  },
  {
   "cell_type": "code",
   "execution_count": 55,
   "metadata": {},
   "outputs": [
    {
     "name": "stdout",
     "output_type": "stream",
     "text": [
      "Initial plaintext:  Your Auntie\n",
      "Converted ascii msg:  89111117114032065117110116105101\n"
     ]
    },
    {
     "data": {
      "text/plain": [
       "107"
      ]
     },
     "execution_count": 55,
     "metadata": {},
     "output_type": "execute_result"
    }
   ],
   "source": [
    "message = \"Your Auntie\"\n",
    "\n",
    "print('Initial plaintext: ', message)\n",
    "ascii_msg = convert_to_ascii(message)\n",
    "print('Converted ascii msg: ', ascii_msg)\n",
    "ascii_msg.bit_length()"
   ]
  },
  {
   "cell_type": "markdown",
   "metadata": {},
   "source": [
    "Begin encryption"
   ]
  },
  {
   "cell_type": "code",
   "execution_count": 59,
   "metadata": {},
   "outputs": [
    {
     "name": "stdout",
     "output_type": "stream",
     "text": [
      "Encrypted msg in ascii:  707612774005187645873348056538847247660687871307776743683103457680673942077710860630928737345301\n",
      "Encrypted msg in string:  ˃ɤ̆\u0005»ʅͩŜ8Ț͏÷ʔʯͧĳ̈˧ʫgǉʨʡήMˆ͜ɶΠˡřĭ\n"
     ]
    }
   ],
   "source": [
    "encrypted_message = RSA_encrypt(ascii_msg, e, N)\n",
    "print('Encrypted msg in ascii: ', encrypted_message)\n",
    "\n",
    "print('Encrypted msg in string: ', convert_to_string(encrypted_message))\n"
   ]
  },
  {
   "cell_type": "markdown",
   "metadata": {},
   "source": [
    "Decryption with d"
   ]
  },
  {
   "cell_type": "code",
   "execution_count": 61,
   "metadata": {},
   "outputs": [
    {
     "name": "stdout",
     "output_type": "stream",
     "text": [
      "Decrypted msg in ascii:  89111117114032065117110116105101\n",
      "Decrypted msg in string:  Your Auntie\n"
     ]
    }
   ],
   "source": [
    "decrypted_message = RSA_decrypt(encrypted_message, d, N)\n",
    "\n",
    "print('Decrypted msg in ascii: ', decrypted_message)\n",
    "print('Decrypted msg in string: ', convert_to_string(decrypted_message))"
   ]
  },
  {
   "cell_type": "markdown",
   "metadata": {},
   "source": []
  }
 ],
 "metadata": {
  "kernelspec": {
   "display_name": "Python 3",
   "language": "python",
   "name": "python3"
  },
  "language_info": {
   "codemirror_mode": {
    "name": "ipython",
    "version": 3
   },
   "file_extension": ".py",
   "mimetype": "text/x-python",
   "name": "python",
   "nbconvert_exporter": "python",
   "pygments_lexer": "ipython3",
   "version": "3.9.7"
  }
 },
 "nbformat": 4,
 "nbformat_minor": 2
}
