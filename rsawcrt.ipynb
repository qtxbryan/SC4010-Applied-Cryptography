{
 "cells": [
  {
   "cell_type": "code",
   "execution_count": 17,
   "metadata": {},
   "outputs": [],
   "source": [
    "import secrets\n",
    "import time\n",
    "import math"
   ]
  },
  {
   "cell_type": "code",
   "execution_count": 2,
   "metadata": {},
   "outputs": [],
   "source": [
    "def gcd(a, b):\n",
    "    while(b):\n",
    "        a, b = b, a % b \n",
    "    return a"
   ]
  },
  {
   "cell_type": "code",
   "execution_count": 3,
   "metadata": {},
   "outputs": [],
   "source": [
    "def RMPT(p, s):\n",
    "    q = p - 1\n",
    "    k = 0 \n",
    "    \n",
    "    # if newP % 2 have remainder then stop\n",
    "    while q % 2 != 1: \n",
    "        q //= 2 \n",
    "        k += 1 \n",
    "\n",
    "    for i in range(s):\n",
    "        #Generate random a \n",
    "        a = secrets.randbelow(p-2) + 2 \n",
    "\n",
    "        while gcd(a,p) != 1:\n",
    "            a = secrets.randbelow(p-2) + 2\n",
    "            \n",
    "        z = pow(a, q, p) # z = a^q mod p\n",
    "\n",
    "        # checking a^q != 1 mod p and a^q != -1 mod p \n",
    "        if z != 1 and z != p-1:\n",
    "            for j in range(1, k):\n",
    "                z = pow(z, 2, p)\n",
    "                if z == 1:\n",
    "                    return False\n",
    "\n",
    "            if z != p-1:\n",
    "                return False\n",
    "    return True"
   ]
  },
  {
   "cell_type": "code",
   "execution_count": 4,
   "metadata": {},
   "outputs": [
    {
     "name": "stdout",
     "output_type": "stream",
     "text": [
      "False\n"
     ]
    }
   ],
   "source": [
    "# Check the result \n",
    "print(RMPT(58536828032471131348456426324506659436967195846753702250333704608966791528534067798278728747981548972696886762937373961684727824495513261968904996453134494716095278694362125703914706608360435446792042241177272588181082115012537677828367957226772929218486970585153142173891310402614698182537457744036891034121, 2))"
   ]
  },
  {
   "cell_type": "code",
   "execution_count": 5,
   "metadata": {},
   "outputs": [],
   "source": [
    "def generate_prime(bits, rounds):\n",
    "    while(True):\n",
    "        num = secrets.randbits(bits) # using CSRPNG to generate\n",
    "\n",
    "        # if number is even make it odd \n",
    "        if num % 2 == 0:\n",
    "            num += 1\n",
    "\n",
    "        elif num % 3 == 0:\n",
    "            continue \n",
    "\n",
    "        elif num % 5 == 0:\n",
    "            continue\n",
    "\n",
    "        elif num % 7 == 0:\n",
    "            continue\n",
    "\n",
    "        elif num % 11 == 0: \n",
    "            continue\n",
    "\n",
    "        elif RMPT(num, rounds):\n",
    "            return num\n"
   ]
  },
  {
   "cell_type": "code",
   "execution_count": 61,
   "metadata": {},
   "outputs": [],
   "source": [
    "def split_message(message, n):\n",
    "    n_max = n-1\n",
    "    blocks = []\n",
    "    str_msg = str(message)\n",
    "\n",
    "    i = 0\n",
    "    while i < len(str_msg):\n",
    "        block = str_msg[i:i+len(str(n_max))]\n",
    "        block_int = int(block)\n",
    "        if block_int >= n:\n",
    "            block = str_msg[i:i+len(str(n_max))-1]\n",
    "        blocks.append(int(block))\n",
    "        i += len(str(n_max))\n",
    "\n",
    "    return blocks\n"
   ]
  },
  {
   "cell_type": "code",
   "execution_count": 62,
   "metadata": {},
   "outputs": [
    {
     "name": "stdout",
     "output_type": "stream",
     "text": [
      "[285, 281, 173]\n"
     ]
    }
   ],
   "source": [
    "n = 1591\n",
    "message = 28562810173\n",
    "blocks = split_message(message, n)\n",
    "print(blocks)"
   ]
  },
  {
   "cell_type": "code",
   "execution_count": 46,
   "metadata": {},
   "outputs": [],
   "source": [
    "def RSA_encrypt(ascii_message, e, N):\n",
    "    encrypted_blocks = split_message(ascii_message, N)\n",
    "    \n",
    "    for i in encrypted_blocks:\n",
    "        encrypted_message += pow(i, e, N)\n",
    "    \n",
    "    return encrypted_message"
   ]
  },
  {
   "cell_type": "code",
   "execution_count": 28,
   "metadata": {},
   "outputs": [],
   "source": [
    "def RSA_decrypt(encrypted_message, d, p, q):\n",
    "    dp = d % (p-1)\n",
    "    dq = d % (q-1)\n",
    "    qinv = pow(q, p-2, p) \n",
    "\n",
    "    m1 = pow(encrypted_message, dp, p)\n",
    "    m2 = pow(encrypted_message, dq, q)\n",
    "\n",
    "    h =  (qinv * (m1 - m2)) % p \n",
    "    message = m2 + h * q \n",
    "\n",
    "    padding_len = message[-1]\n",
    "    plain_text = message[:-padding_len]\n",
    "\n",
    "    return plain_text"
   ]
  },
  {
   "cell_type": "code",
   "execution_count": 29,
   "metadata": {},
   "outputs": [],
   "source": [
    "def convert_to_ascii(message):\n",
    "    ascii_message = \"\"\n",
    "    for char in message:\n",
    "        ascii_char = ord(char)\n",
    "        ascii_char = str(ascii_char)\n",
    "        ascii_char = ascii_char.zfill(3)\n",
    "        ascii_message += ascii_char\n",
    "    return int(ascii_message)"
   ]
  },
  {
   "cell_type": "code",
   "execution_count": 30,
   "metadata": {},
   "outputs": [],
   "source": [
    "from textwrap import wrap\n",
    "\n",
    "def convert_to_string(ascii_message):\n",
    "    message = \"\"\n",
    "    ascii_message = str(ascii_message)\n",
    "    if(len(ascii_message) % 3 != 0):\n",
    "        for _ in range(3 - len(ascii_message) % 3):\n",
    "            ascii_message = \"0\" + ascii_message\n",
    "    ascii_list = wrap(ascii_message, 3)\n",
    "    for ascii in ascii_list:\n",
    "        message = message + chr(int(ascii))\n",
    "    return message"
   ]
  },
  {
   "cell_type": "code",
   "execution_count": 31,
   "metadata": {},
   "outputs": [],
   "source": [
    "def RSA_generate_d(e, p, q):\n",
    "    N = p * q\n",
    "    phiN = (p-1)*(q-1)\n",
    "    assert gcd(e, phiN) == 1, \"GCD of e and Phi N must be 1\"\n",
    "    d = pow(e, -1, phiN)\n",
    "\n",
    "    return d\n"
   ]
  },
  {
   "cell_type": "markdown",
   "metadata": {},
   "source": [
    "## RSA 2048 \n",
    "\n",
    "User of RSA encrypt message using RSA 1024\n",
    "\n",
    "Generate primes p and q \n",
    "\n",
    "User deliberately generate a weak d exponent by setting max bit length to 1/3 * N^1/4 to get faster decryption \n",
    "\n",
    "Encryption exponent e (2048 bit) is obtained by inversing weak d "
   ]
  },
  {
   "cell_type": "code",
   "execution_count": 32,
   "metadata": {},
   "outputs": [
    {
     "name": "stdout",
     "output_type": "stream",
     "text": [
      "E is:  65537\n",
      "E bit length:  17\n",
      "D is:  3137059610361319908709445904443926951680352381178175837742160730619120425363545301191977228230266428497821796950827411070722731959644580578448700996857816988493636239991596322538773052177981860531751034260582700729693786526425156251573860403010141225209618204319880496231973098938745667638699651479866518999078756953697471587389498472245796774986444086222765049468961140172579424404436681760592569371080777731638175926605330766221011211701969671442136829365564543008015516818152126230413990264471645031962855419728456510575398759167499398580107598292031252142031686263394948822322554154842048366638383626618553976041\n",
      "d bit length:  2045\n"
     ]
    }
   ],
   "source": [
    "phi_test = False\n",
    "e = 65537\n",
    "\n",
    "while phi_test == False: \n",
    "    p = generate_prime(1024, 3)\n",
    "    q = generate_prime(1024, 3)\n",
    "    \n",
    "    phiN = (p-1) * (q-1)\n",
    "    N = p * q\n",
    "\n",
    "    if gcd(e, phiN) == 1:\n",
    "        phi_test = True\n",
    "    \n",
    "\n",
    "    d = RSA_generate_d(e, p, q)\n",
    "    print('E is: ', e)\n",
    "    print('E bit length: ', e.bit_length())\n",
    "\n",
    "    print('D is: ', d)\n",
    "    print('d bit length: ', d.bit_length())\n"
   ]
  },
  {
   "cell_type": "code",
   "execution_count": 47,
   "metadata": {},
   "outputs": [
    {
     "ename": "TypeError",
     "evalue": "can only concatenate str (not \"int\") to str",
     "output_type": "error",
     "traceback": [
      "\u001b[0;31m---------------------------------------------------------------------------\u001b[0m",
      "\u001b[0;31mTypeError\u001b[0m                                 Traceback (most recent call last)",
      "\u001b[1;32m/Users/bryantan/Documents/SC4010-Applied-Cryptography/rsawcrt.ipynb Cell 15\u001b[0m line \u001b[0;36m<module>\u001b[0;34m\u001b[0m\n\u001b[1;32m      <a href='vscode-notebook-cell:/Users/bryantan/Documents/SC4010-Applied-Cryptography/rsawcrt.ipynb#X20sZmlsZQ%3D%3D?line=2'>3</a>\u001b[0m ascii_message \u001b[39m=\u001b[39m convert_to_ascii(message)\n\u001b[1;32m      <a href='vscode-notebook-cell:/Users/bryantan/Documents/SC4010-Applied-Cryptography/rsawcrt.ipynb#X20sZmlsZQ%3D%3D?line=3'>4</a>\u001b[0m ascii_message\u001b[39m.\u001b[39mbit_length()\n\u001b[0;32m----> <a href='vscode-notebook-cell:/Users/bryantan/Documents/SC4010-Applied-Cryptography/rsawcrt.ipynb#X20sZmlsZQ%3D%3D?line=5'>6</a>\u001b[0m encrypted_message \u001b[39m=\u001b[39m RSA_encrypt(ascii_message, e, N)\n\u001b[1;32m      <a href='vscode-notebook-cell:/Users/bryantan/Documents/SC4010-Applied-Cryptography/rsawcrt.ipynb#X20sZmlsZQ%3D%3D?line=6'>7</a>\u001b[0m \u001b[39mprint\u001b[39m(\u001b[39m'\u001b[39m\u001b[39mEncrypted message in ascii: \u001b[39m\u001b[39m'\u001b[39m, encrypted_message)\n\u001b[1;32m      <a href='vscode-notebook-cell:/Users/bryantan/Documents/SC4010-Applied-Cryptography/rsawcrt.ipynb#X20sZmlsZQ%3D%3D?line=7'>8</a>\u001b[0m \u001b[39mprint\u001b[39m(\u001b[39m'\u001b[39m\u001b[39mEncrypted message in String: \u001b[39m\u001b[39m'\u001b[39m, convert_to_string(encrypted_message))\n",
      "\u001b[1;32m/Users/bryantan/Documents/SC4010-Applied-Cryptography/rsawcrt.ipynb Cell 15\u001b[0m line \u001b[0;36mRSA_encrypt\u001b[0;34m(ascii_message, e, N)\u001b[0m\n\u001b[1;32m      <a href='vscode-notebook-cell:/Users/bryantan/Documents/SC4010-Applied-Cryptography/rsawcrt.ipynb#X20sZmlsZQ%3D%3D?line=2'>3</a>\u001b[0m encrypted_message \u001b[39m=\u001b[39m \u001b[39m\"\u001b[39m\u001b[39m\"\u001b[39m\n\u001b[1;32m      <a href='vscode-notebook-cell:/Users/bryantan/Documents/SC4010-Applied-Cryptography/rsawcrt.ipynb#X20sZmlsZQ%3D%3D?line=4'>5</a>\u001b[0m \u001b[39mfor\u001b[39;00m i \u001b[39min\u001b[39;00m encrypted_blocks:\n\u001b[0;32m----> <a href='vscode-notebook-cell:/Users/bryantan/Documents/SC4010-Applied-Cryptography/rsawcrt.ipynb#X20sZmlsZQ%3D%3D?line=5'>6</a>\u001b[0m     encrypted_message \u001b[39m+\u001b[39m\u001b[39m=\u001b[39m \u001b[39mpow\u001b[39m(i, e, N)\n\u001b[1;32m      <a href='vscode-notebook-cell:/Users/bryantan/Documents/SC4010-Applied-Cryptography/rsawcrt.ipynb#X20sZmlsZQ%3D%3D?line=7'>8</a>\u001b[0m \u001b[39mreturn\u001b[39;00m encrypted_message\n",
      "\u001b[0;31mTypeError\u001b[0m: can only concatenate str (not \"int\") to str"
     ]
    }
   ],
   "source": [
    "message = \"Lorem ipsum dolor sit amet, consectetur adipiscing elit, sed\"\n",
    "\n",
    "ascii_message = convert_to_ascii(message)\n",
    "ascii_message.bit_length()\n",
    "\n",
    "encrypted_message = RSA_encrypt(ascii_message, e, N)\n",
    "print('Encrypted message in ascii: ', encrypted_message)\n",
    "print('Encrypted message in String: ', convert_to_string(encrypted_message))"
   ]
  },
  {
   "cell_type": "markdown",
   "metadata": {},
   "source": [
    "## Decryption using Chinese Remainder Theorem"
   ]
  },
  {
   "cell_type": "code",
   "execution_count": 22,
   "metadata": {},
   "outputs": [
    {
     "name": "stdout",
     "output_type": "stream",
     "text": [
      "Elapsed time: 0.0249681473 seconds\n",
      "Decrypted message in ascii:  76111114101109032105112115117109032100111108111114032115105116032097109101116044032099111110115101099116101116117114032097100105112105115099105110103032101108105116044032115101100\n",
      "Decrypted message in string:  Lorem ipsum dolor sit amet, consectetur adipiscing elit, sed\n"
     ]
    }
   ],
   "source": [
    "\n",
    "start_time = time.time()\n",
    "decrypted_message = RSA_decrypt(encrypted_message, d, p, q)\n",
    "end_time = time.time()\n",
    "\n",
    "elapsed_time = end_time - start_time\n",
    "\n",
    "print('Elapsed time: %.10f seconds' % elapsed_time)\n",
    "print('Decrypted message in ascii: ', decrypted_message)\n",
    "print('Decrypted message in string: ', convert_to_string(decrypted_message))\n"
   ]
  },
  {
   "cell_type": "code",
   "execution_count": null,
   "metadata": {},
   "outputs": [],
   "source": []
  }
 ],
 "metadata": {
  "kernelspec": {
   "display_name": "Python 3",
   "language": "python",
   "name": "python3"
  },
  "language_info": {
   "codemirror_mode": {
    "name": "ipython",
    "version": 3
   },
   "file_extension": ".py",
   "mimetype": "text/x-python",
   "name": "python",
   "nbconvert_exporter": "python",
   "pygments_lexer": "ipython3",
   "version": "3.9.7"
  }
 },
 "nbformat": 4,
 "nbformat_minor": 2
}
